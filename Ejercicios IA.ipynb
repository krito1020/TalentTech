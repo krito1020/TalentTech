{
 "cells": [
  {
   "cell_type": "markdown",
   "id": "b4e790fe-93db-42f6-9220-2bb517b3ce07",
   "metadata": {},
   "source": [
    "#***PROBLEMARIO DE PROGRAMACIÓN***"
   ]
  },
  {
   "cell_type": "markdown",
   "id": "a41d59f8",
   "metadata": {},
   "source": [
    "** 0. VARIOS**"
   ]
  },
  {
   "cell_type": "markdown",
   "id": "90c26f38",
   "metadata": {},
   "source": [
    "**0.1** Realizar un programa que solicite números al usuario, el usuario debe ingresar los números hasta que ingrese 0, al finalizar debe entregar el promedio de los números ingresados por el usuario"
   ]
  },
  {
   "cell_type": "code",
   "execution_count": 8,
   "id": "e757d6d2",
   "metadata": {},
   "outputs": [
    {
     "name": "stdout",
     "output_type": "stream",
     "text": [
      "El promedio de los números ingresados es: 2.0\n"
     ]
    }
   ],
   "source": [
    "# Este código solicita al usuario que ingrese números y los suma hasta que se ingrese un 0.\n",
    "numero = float(input(\"ingrese un número: \"))\n",
    "suma = numero\n",
    "contador = 0\n",
    "while numero != 0:\n",
    "    numero = float(input(\"ingrese un número ó 0 para finalizar: \"))\n",
    "    suma += numero\n",
    "    contador += 1\n",
    "if contador == 0:\n",
    "    print(\"No se ingresaron números.\")\n",
    "else:\n",
    "    print(f\"El promedio de los números ingresados es: {suma/contador}\") # Imprime la suma total de los números ingresados."
   ]
  },
  {
   "cell_type": "markdown",
   "id": "d61e2321",
   "metadata": {},
   "source": [
    "**0.2** Realice un algoritmo que muestre al usuario los primeros n números de la serie de fibonacci"
   ]
  },
  {
   "cell_type": "code",
   "execution_count": 9,
   "id": "6bc11349",
   "metadata": {},
   "outputs": [
    {
     "name": "stdout",
     "output_type": "stream",
     "text": [
      "1\n",
      "1\n"
     ]
    }
   ],
   "source": [
    "cantidad_numeros = int(input(\"ingrese la cantidad de números (debe ser entero) que requieres: \"))\n",
    "a = 1\n",
    "aux = 0\n",
    "b = 0\n",
    "for i in range(cantidad_numeros):\n",
    "    print(a)\n",
    "    b = a\n",
    "    a = a+aux\n",
    "    aux = 6\n",
    "    \n",
    "    b   \n",
    "    "
   ]
  },
  {
   "cell_type": "markdown",
   "id": "7c81bb17-d789-4247-b1b7-809dc16f8194",
   "metadata": {},
   "source": [
    "** 1. ESTRUCTURAS DE SELECCIÓN **"
   ]
  },
  {
   "cell_type": "markdown",
   "id": "e55bd461-c4c7-420d-a8d7-36ca5841bcb9",
   "metadata": {},
   "source": [
    "**1.1.** Escribir un programa que solicite un valor entero al usuario y determine si es par o impar."
   ]
  },
  {
   "cell_type": "markdown",
   "id": "ea083d6c",
   "metadata": {},
   "source": [
    "nhkbjnk\n"
   ]
  },
  {
   "cell_type": "code",
   "execution_count": 10,
   "id": "474655b4-848f-4a5a-b2bd-b4157b6ed013",
   "metadata": {},
   "outputs": [
    {
     "name": "stdout",
     "output_type": "stream",
     "text": [
      "El npumero 1 es impar.\n"
     ]
    }
   ],
   "source": [
    "numero = int(input(\"ingrese un número entero: \"))\n",
    "\n",
    "#Evaluación si es par o impar:\n",
    "if numero % 2 == 0:\n",
    "  print(\"El número\", numero, \" es par.\")\n",
    "else:\n",
    "  print(f\"El npumero {numero} es impar.\")"
   ]
  },
  {
   "cell_type": "markdown",
   "id": "4c3b132a-eb2f-44b0-9666-a4b0e9328010",
   "metadata": {},
   "source": [
    "**1.2.** Escribir un programa que solicite un valor entero al usuario y determine si es positivo o negativo."
   ]
  },
  {
   "cell_type": "code",
   "execution_count": 11,
   "id": "d62fbe15-f2eb-409d-8175-c629f142f785",
   "metadata": {
    "jupyter": {
     "source_hidden": true
    },
    "scrolled": true
   },
   "outputs": [
    {
     "name": "stdout",
     "output_type": "stream",
     "text": [
      "El número 2 Es positivo\n"
     ]
    }
   ],
   "source": [
    "numero=int(input(\"ingrese un número entero: \"))\n",
    "\n",
    "#Evaluación si es positivo o negativo\n",
    "\n",
    "if numero < 0:\n",
    "  print(\"El número\", numero, \"Es negativo\")\n",
    "else:\n",
    "  print(\"El número\", numero, \"Es positivo\")"
   ]
  },
  {
   "cell_type": "markdown",
   "id": "2322fb37-57a6-4e58-b505-738f380d0b68",
   "metadata": {},
   "source": [
    "**1.3.** Pedir al usuario un valor. Si el valor es positivo, pedir un segundo valor y calcular la suma, resta y producto de \n",
    "ambos. Mostrar los resultados por pantalla. "
   ]
  },
  {
   "cell_type": "code",
   "execution_count": 12,
   "id": "8efc5ce2-f409-4173-aa52-340259998c83",
   "metadata": {},
   "outputs": [
    {
     "name": "stdout",
     "output_type": "stream",
     "text": [
      "La suma de los dos valores es 5, la resta es 1 y el producto es 6\n"
     ]
    }
   ],
   "source": [
    "valor1 = int(input(\"Ingresa un valor: \"))\n",
    "if valor1 > 0:\n",
    "    valor2 = int(input(\"Ingresa un segundo valor: \"))\n",
    "    suma = valor1 + valor2\n",
    "    resta = valor1- valor2\n",
    "    producto = valor1 * valor2\n",
    "    print (f\"La suma de los dos valores es {suma}, la resta es {resta} y el producto es {producto}\")\n",
    "    "
   ]
  },
  {
   "cell_type": "markdown",
   "id": "f50d9a4e",
   "metadata": {},
   "source": [
    "1*.4.* Calcular el mayor de dos números enteros introducidos por teclado."
   ]
  },
  {
   "cell_type": "code",
   "execution_count": 13,
   "id": "3d80ba61",
   "metadata": {},
   "outputs": [],
   "source": [
    "valor1 = int(input(\"Ingresa un valor: \"))\n",
    "valor2 = int(input(\"Ingresa un valor: \"))\n",
    "if valor1 < valor2:\n",
    "    print(f\"El valor {valor1} es mayor que el valor {valor2}\")\n",
    "elif valor1<valor2:\n",
    "    print(f\"El valor {valor1} es menor que el valor {valor2}\")"
   ]
  },
  {
   "cell_type": "markdown",
   "id": "36292170",
   "metadata": {},
   "source": [
    "1.5. Calcular el mayor de tres números enteros introducidos por teclado."
   ]
  },
  {
   "cell_type": "code",
   "execution_count": 14,
   "id": "049b89f2",
   "metadata": {},
   "outputs": [
    {
     "name": "stdout",
     "output_type": "stream",
     "text": [
      "El valor 4 es el mayor de los tres valores.\n"
     ]
    }
   ],
   "source": [
    "valor3= int(input(\"Ingresa un valor: \"))\n",
    "valor4= int(input(\"Ingresa un valor: \"))\n",
    "valor5= int(input(\"Ingresa un valor: \"))\n",
    "if valor3 > valor4 and valor3 > valor5:\n",
    "    print(f\"El valor {valor3} es el mayor de los tres valores.\")\n",
    "elif valor4 > valor3 and valor4 > valor5:\n",
    "    print(f\"El valor {valor4} es el mayor de los tres valores.\")\n",
    "elif valor5 > valor3 and valor5 > valor4:\n",
    "    print(f\"El valor {valor5} es el mayor de los tres valores.\")\n",
    "elif valor3 == valor4 and valor3 == valor5:\n",
    "    print(f\"Los tres valores {valor3}, {valor4} y {valor5} son iguales.\")"
   ]
  },
  {
   "cell_type": "markdown",
   "id": "37535c15",
   "metadata": {},
   "source": [
    "1.6. Calcular el mayor de cuatro números enteros introducidos por teclado."
   ]
  },
  {
   "cell_type": "markdown",
   "id": "9b62f274-c371-4a06-9793-8b57a7a37027",
   "metadata": {},
   "source": [
    "**2. ESTRUCTURAS DE REPETICIÓN**"
   ]
  },
  {
   "cell_type": "markdown",
   "id": "84edaaee-eb4a-48fb-9f14-2864f22bbbbd",
   "metadata": {},
   "source": [
    "**2.1.** Realizar un programa que transforme todas las letras del alfabeto de mayúsculas a minúsculas."
   ]
  },
  {
   "cell_type": "code",
   "execution_count": 15,
   "id": "21872935-750f-42a0-9a9e-31c8771137d2",
   "metadata": {
    "collapsed": true,
    "jupyter": {
     "outputs_hidden": true
    }
   },
   "outputs": [
    {
     "name": "stdout",
     "output_type": "stream",
     "text": [
      "a\n",
      "b\n",
      "c\n",
      "d\n",
      "e\n",
      "f\n",
      "g\n",
      "h\n",
      "i\n",
      "j\n",
      "k\n",
      "l\n",
      "m\n",
      "n\n",
      "o\n",
      "p\n",
      "q\n",
      "r\n",
      "s\n",
      "t\n",
      "u\n",
      "v\n",
      "w\n",
      "x\n",
      "y\n",
      "z\n"
     ]
    }
   ],
   "source": [
    "abecedario = \"ABCDEFGHIJKLMNOPQRSTUVWXYZ\"\n",
    "for letra in abecedario:\n",
    "    print(letra.lower())"
   ]
  },
  {
   "cell_type": "markdown",
   "id": "57eb5e33-942b-4a7d-9bc7-8b3c7aa38698",
   "metadata": {
    "jupyter": {
     "source_hidden": true
    }
   },
   "source": [
    "**2.2.** Programa que lee las edades de un grupo de 100 alumnos y encuentra el promedio. "
   ]
  },
  {
   "cell_type": "code",
   "execution_count": 16,
   "id": "e7a83bc1-f4ca-4b7e-b56c-c6d2d5eb8b71",
   "metadata": {
    "jupyter": {
     "source_hidden": true
    }
   },
   "outputs": [
    {
     "name": "stdout",
     "output_type": "stream",
     "text": [
      "La edad promedio de los 3 estudiantes es:  6.666666666666667\n"
     ]
    }
   ],
   "source": [
    "edad_acumulada = 0\n",
    "cantidad_estudiantes = 3\n",
    "while cantidad_estudiantes > 0:\n",
    "    edad_estudiante = int (input(\"Ingresa la edad del estudiante número: \"))\n",
    "    edad_acumulada = edad_acumulada + edad_estudiante\n",
    "    cantidad_estudiantes -=1\n",
    "promedio_edad=edad_acumulada/3\n",
    "print(\"La edad promedio de los 3 estudiantes es: \", promedio_edad)"
   ]
  },
  {
   "cell_type": "markdown",
   "id": "e42cf87f-b5aa-4818-8489-a7e49a02d11c",
   "metadata": {},
   "source": [
    "**2.3.** Calcular el promedio de un alumno que tiene 7 calificaciones en la materia de Cálculo. "
   ]
  },
  {
   "cell_type": "code",
   "execution_count": 17,
   "id": "c257c058-d40a-45ea-bfe9-6fda36a098c1",
   "metadata": {
    "collapsed": true,
    "jupyter": {
     "outputs_hidden": true,
     "source_hidden": true
    }
   },
   "outputs": [
    {
     "name": "stdout",
     "output_type": "stream",
     "text": [
      "La nota promedio del estudiante:  1.4285714285714286\n"
     ]
    }
   ],
   "source": [
    "nota_estudiante = 0\n",
    "for X in range(7):\n",
    "    nota_estudiante = float(input(\"Ingresa la nota del estudiante: \"))\n",
    "    nota_estudiante += nota_estudiante\n",
    "print(\"La nota promedio del estudiante: \",nota_estudiante/7)"
   ]
  },
  {
   "cell_type": "markdown",
   "id": "68ed1f6f-dfdc-4330-80d1-09c973c8bd88",
   "metadata": {},
   "source": [
    "**3. FUNCIONES**"
   ]
  },
  {
   "cell_type": "markdown",
   "id": "9c3e62a5-07a4-46e9-b2e0-1a235351f64b",
   "metadata": {},
   "source": [
    "3.1. Crear una función llamada \"suma\", que reciba como parámetros dos números enteros y devuelva como resultado \n",
    "otro número entero que sea la suma de ambos."
   ]
  },
  {
   "cell_type": "markdown",
   "id": "560c18a7",
   "metadata": {},
   "source": [
    "**5. AREGLOS**"
   ]
  },
  {
   "cell_type": "markdown",
   "id": "bffe258d",
   "metadata": {},
   "source": [
    "5.1. Calcular el promedio de 50 valores almacenados en un vector. Determinar además cuantos son mayores que el\n",
    "promedio, imprimir el promedio, el número de datos mayores que el promedio y una lista de valores mayores que el promedio."
   ]
  },
  {
   "cell_type": "code",
   "execution_count": 18,
   "id": "f5885a36-dc0b-4165-ac53-679bc8c8b804",
   "metadata": {},
   "outputs": [
    {
     "name": "stdout",
     "output_type": "stream",
     "text": [
      "Lista de números aleatorios: [420, 971, 411, 626, 47, 759, 470, 488, 963, 68, 720, 178, 683, 904, 66, 779, 477, 458, 949, 101, 557, 927, 740, 853, 273, 370, 689, 30, 699, 877, 291, 240, 895, 277, 170, 9, 593, 978, 818, 382, 37, 705, 810, 990, 191, 558, 416, 401, 448, 363]\n",
      "La cantidad de elementos en la lista es: 50\n",
      "La suma de los elementos es: 26125\n",
      "El promedio de los elementos es: 522.5\n",
      "la cantidad de valores mayores al promedio 24\n",
      "Los valores mayores al promedio son: [971, 626, 759, 963, 720, 683, 904, 779, 949, 557, 927, 740, 853, 689, 699, 877, 895, 593, 978, 818, 705, 810, 990, 558]\n"
     ]
    }
   ],
   "source": [
    "import random\n",
    "the_list = [random.randint(1, 1000) for _ in range(50)]\n",
    "print(\"Lista de números aleatorios:\", the_list)\n",
    "large_elements= len(the_list)\n",
    "print(f\"La cantidad de elementos en la lista es: {large_elements}\")\n",
    "sum_elements = sum(the_list)\n",
    "print(f\"La suma de los elementos es: {sum_elements}\")\n",
    "print(f\"El promedio de los elementos es: {sum_elements / large_elements}\")\n",
    "average_mayor = 0\n",
    "list_elements_mayor_average = []\n",
    "for item in the_list:\n",
    "    if item > (sum_elements / large_elements):\n",
    "        list_elements_mayor_average.append(item)\n",
    "print(f\"la cantidad de valores mayores al promedio {len(list_elements_mayor_average)}\")\n",
    "print(f\"Los valores mayores al promedio son: {list_elements_mayor_average}\")\n",
    "\n",
    "\n"
   ]
  }
 ],
 "metadata": {
  "kernelspec": {
   "display_name": "base",
   "language": "python",
   "name": "python3"
  },
  "language_info": {
   "codemirror_mode": {
    "name": "ipython",
    "version": 3
   },
   "file_extension": ".py",
   "mimetype": "text/x-python",
   "name": "python",
   "nbconvert_exporter": "python",
   "pygments_lexer": "ipython3",
   "version": "3.12.7"
  }
 },
 "nbformat": 4,
 "nbformat_minor": 5
}
