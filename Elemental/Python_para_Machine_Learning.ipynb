{
 "cells": [
  {
   "cell_type": "markdown",
   "metadata": {
    "id": "PR71j5u7gZVv"
   },
   "source": [
    "# **Módulo 1 - Fundamentos de Python**\n",
    "* **Tu primer programa**\n",
    "\n",
    "* **Tipos:**\n",
    "\n",
    "numero = 2\n",
    "numero_flotante = 2.3\n",
    "cadena = \"Hola mundo\"\n",
    "booleano = true\n",
    "\n",
    "* **Expresiones y Variables**\n",
    "\n",
    "PEP 8 es una guia de estilo para mejorar la calidad del codigo\n",
    "Las variables: las palabras deben estar unidas por guión bajo suma_numeros (estilo snake case)\n",
    "\n",
    "Funciones: Las palabras van unidas, pero se diferencia con la mayuscula a partir de la segunda palabra sumaCaracteres (estilo Camel case)\n",
    "\n",
    "Clases: Las palabras van con juntas, pero las palabras deben comenzar con mayuscula. SumaCaracteres (estilo Pascal case)\n",
    "\n",
    "* **Operaciones con Cadenas**\n",
    "\n",
    "*Operadores. Arimeticos:*\n",
    "\n",
    "suma=+\n",
    "\n",
    "resta=-\n",
    "\n",
    "multiplicación= *\n",
    "\n",
    "division =/\n",
    "\n",
    "division entera =//\n",
    "\n",
    "modulo o residuo = %\n",
    "\n",
    "potenciación = ** exponente\n",
    "\n",
    "*Operadores comparación*\n",
    "\n",
    "Mayor que: >\n",
    "\n",
    "Menor que: <\n",
    "\n",
    "Mayor igual que: >=\n",
    "\n",
    "Menor igual que: <=\n",
    "\n",
    "Comparación: ==\n",
    "\n",
    "Distinto: !=\n",
    "\n",
    "*Operadores logicos*\n",
    "\n",
    "y: and &&\n",
    "\n",
    "o: or ||\n",
    "\n",
    "negación: not !\n",
    "\n"
   ]
  },
  {
   "cell_type": "code",
   "execution_count": null,
   "metadata": {
    "colab": {
     "base_uri": "https://localhost:8080/"
    },
    "executionInfo": {
     "elapsed": 16,
     "status": "ok",
     "timestamp": 1748705936256,
     "user": {
      "displayName": "carolina ospina",
      "userId": "05971480678282663569"
     },
     "user_tz": 300
    },
    "id": "cxIre3kqgWis",
    "outputId": "21edece8-6faa-4cf8-eb3a-771956556305"
   },
   "outputs": [
    {
     "name": "stdout",
     "output_type": "stream",
     "text": [
      "2\n",
      "---------\n",
      "2\n",
      "2.3\n",
      "Hola mundo\n",
      "True\n",
      "---------\n",
      "Hola Usuario\n"
     ]
    }
   ],
   "source": [
    "suma = 1+1 #El numeral es para se maneja para documentar\n",
    "print(suma)\n",
    "print(\"---------\")\n",
    "\"\"\"las tres comillas sirve para documentar si requiero varias lineas de documentación. Debe terminar con las tres comillas\"\"\"\n",
    "numero = 2\n",
    "numero_flotante = 2.3\n",
    "cadena = \"Hola mundo\"\n",
    "booleano = True\n",
    "\n",
    "print (numero)\n",
    "print (numero_flotante)\n",
    "print (cadena)\n",
    "print (booleano)\n",
    "\n",
    "print(\"---------\")\n",
    "\n",
    "#EXPRESIONES\n",
    "concatenar = \"Hola\" + \" Usuario\"\n",
    "print(concatenar)\n",
    "\n"
   ]
  },
  {
   "cell_type": "code",
   "execution_count": null,
   "metadata": {
    "colab": {
     "base_uri": "https://localhost:8080/"
    },
    "executionInfo": {
     "elapsed": 15,
     "status": "ok",
     "timestamp": 1748703823015,
     "user": {
      "displayName": "carolina ospina",
      "userId": "05971480678282663569"
     },
     "user_tz": 300
    },
    "id": "_1WqAzOt3iME",
    "outputId": "6de9b03f-8a00-4ac7-da9e-cc7cd228abb6"
   },
   "outputs": [
    {
     "name": "stdout",
     "output_type": "stream",
     "text": [
      "2\n",
      "1.7320508075688772\n"
     ]
    }
   ],
   "source": [
    "print(5//2)\n",
    "print(3**(1/2))"
   ]
  },
  {
   "cell_type": "code",
   "execution_count": null,
   "metadata": {
    "colab": {
     "base_uri": "https://localhost:8080/"
    },
    "executionInfo": {
     "elapsed": 2721,
     "status": "ok",
     "timestamp": 1748704156923,
     "user": {
      "displayName": "carolina ospina",
      "userId": "05971480678282663569"
     },
     "user_tz": 300
    },
    "id": "WXIV5unA3s5-",
    "outputId": "557acf31-4a1b-4322-bb98-dd7a7896393e"
   },
   "outputs": [
    {
     "name": "stdout",
     "output_type": "stream",
     "text": [
      "ingrese un número: 3\n",
      "<class 'str'> 3\n",
      "<class 'int'> 3\n",
      "<class 'float'> 3.0\n"
     ]
    }
   ],
   "source": [
    "mi_variable=input(\"ingrese un número: \")\n",
    "print(type(mi_variable), mi_variable) #me informa que tipo de dato\n",
    "mi_variable= int(mi_variable)\n",
    "print(type(mi_variable), mi_variable)\n",
    "mi_variable=float(mi_variable)\n",
    "print(type(mi_variable), mi_variable)"
   ]
  },
  {
   "cell_type": "markdown",
   "metadata": {
    "id": "FokDnv7JhFK-"
   },
   "source": [
    "# **Módulo 2 - Fundamentos de Programación en Python**\n",
    "\n",
    "* **Condiciones y Ramificaciones**\n",
    "\n",
    "if: Si\n",
    "\n",
    "else: Entonces\n",
    "\n",
    "elif: Si una condición if no se cumple, Python evalúa las condiciones elif en orden hasta encontrar una que sea verdadera\n",
    "\n",
    "x.upper lo que esta en X lo convierte en mayuscula\n",
    "\n",
    "x.Lower lo que esta en X lo convierte en minuscula\n",
    "\n",
    "* **Bucles**\n",
    "\n",
    "Existe dos tipos de blucles: bucle for y bucle while. En python solo exise el while. Sirve para generar una iteración de una funcion una cantidad de veces determinada o hasta que se cumpla una condición\n",
    "* **Funciones**\n",
    "\n",
    "print: Imprimir\n",
    "input: ventana para solicitar información\n",
    "type: Determina el tipo de la ariable\n",
    "* Objetos y Clases\n",
    "\n"
   ]
  },
  {
   "cell_type": "code",
   "execution_count": null,
   "metadata": {
    "colab": {
     "base_uri": "https://localhost:8080/"
    },
    "executionInfo": {
     "elapsed": 18,
     "status": "ok",
     "timestamp": 1748705888469,
     "user": {
      "displayName": "carolina ospina",
      "userId": "05971480678282663569"
     },
     "user_tz": 300
    },
    "id": "8BwvDdKQhEys",
    "outputId": "13c1ac2e-24d8-4a03-c296-242ee3802b79"
   },
   "outputs": [
    {
     "name": "stdout",
     "output_type": "stream",
     "text": [
      "Es impar\n",
      "---------\n",
      "Son iguales\n",
      "---------\n",
      "Es mayor\n"
     ]
    }
   ],
   "source": [
    "# Condiciones\n",
    "if(3 % 2 ==0):\n",
    "  print(\"Es par\")\n",
    "else:\n",
    "  print(\"Es impar\")\n",
    "\n",
    "print(\"---------\")\n",
    "\n",
    "if \"Hola\" == \"Hola\":\n",
    "  print(\"Son iguales\")\n",
    "else:\n",
    "  print(\"No son iguales\")\n",
    "\n",
    "print(\"---------\")\n",
    "\n",
    "if 3 > 2:\n",
    "  print(\"Es mayor\")\n",
    "elif 2 > 1:\n",
    "  print(\"Es cierto\")\n",
    "else:\n",
    "  print(\"Es falso\")"
   ]
  },
  {
   "cell_type": "code",
   "execution_count": null,
   "metadata": {
    "colab": {
     "base_uri": "https://localhost:8080/"
    },
    "executionInfo": {
     "elapsed": 12,
     "status": "ok",
     "timestamp": 1748705544289,
     "user": {
      "displayName": "carolina ospina",
      "userId": "05971480678282663569"
     },
     "user_tz": 300
    },
    "id": "iWMpRuWo8wF_",
    "outputId": "8e4de52e-c415-4765-8ab2-b6e9da3f85e1"
   },
   "outputs": [
    {
     "name": "stdout",
     "output_type": "stream",
     "text": [
      "0\n",
      "1\n",
      "2\n",
      "3\n",
      "4\n",
      "5\n",
      "6\n",
      "7\n",
      "8\n",
      "9\n",
      "---------\n",
      "5\n",
      "6\n",
      "7\n",
      "8\n",
      "9\n",
      "---------\n",
      "H\n",
      "o\n",
      "l\n",
      "a\n",
      " \n",
      "m\n",
      "u\n",
      "n\n",
      "d\n",
      "o\n"
     ]
    }
   ],
   "source": [
    "#Bucles:\n",
    "#Bucle for:\n",
    "for x in range(10):\n",
    "  print(x)\n",
    "\n",
    "print(\"---------\")\n",
    "\n",
    "for j in range(5,10):\n",
    "  print(j)\n",
    "\n",
    "print(\"---------\")\n",
    "\n",
    "for x in \"Hola mundo\":\n",
    "  print (x)\n",
    "\n",
    "print(\"---------\")\n",
    "\n",
    "for x in range()"
   ]
  },
  {
   "cell_type": "code",
   "execution_count": null,
   "metadata": {
    "colab": {
     "base_uri": "https://localhost:8080/"
    },
    "executionInfo": {
     "elapsed": 50,
     "status": "ok",
     "timestamp": 1748705869331,
     "user": {
      "displayName": "carolina ospina",
      "userId": "05971480678282663569"
     },
     "user_tz": 300
    },
    "id": "vWZrTINZ-T4x",
    "outputId": "fdd7fdd4-cbfb-47c2-b038-4ba9191b92db"
   },
   "outputs": [
    {
     "name": "stdout",
     "output_type": "stream",
     "text": [
      "5\n",
      "4\n",
      "3\n",
      "2\n",
      "1\n",
      "0\n",
      "---------\n",
      "4\n",
      "3\n",
      "2\n",
      "1\n",
      "0\n"
     ]
    }
   ],
   "source": [
    "# Bucles while:\n",
    "bandera1 = 5\n",
    "while bandera1 >=0:\n",
    "  print(bandera1)\n",
    "  bandera1 -= 1\n",
    "\n",
    "print(\"---------\")\n",
    "\n",
    "bandera2=5\n",
    "while True:\n",
    "  bandera2 -=1\n",
    "  print(bandera2)\n",
    "  if bandera2 == 0:\n",
    "    break"
   ]
  },
  {
   "cell_type": "code",
   "execution_count": null,
   "metadata": {
    "id": "pM3QcyLgLY2N"
   },
   "outputs": [],
   "source": []
  },
  {
   "cell_type": "markdown",
   "metadata": {
    "id": "nCfOwdP3hC3E"
   },
   "source": [
    "# Módulo 3 - Estructuras de Datos en Python\n",
    "\n",
    "* **Listas y Tuplas:**\n",
    "\n",
    "*Listas:* Las listas en Python son uno de los tipos o estructuras de datos más versátiles del lenguaje, ya que permiten almacenar un conjunto arbitrario de datos. Es decir, podemos guardar en ellas prácticamente lo que sea.\n",
    "* *Conjuntos*\n",
    "* *Diccionarios*\n",
    "\n"
   ]
  },
  {
   "cell_type": "code",
   "execution_count": 6,
   "metadata": {
    "colab": {
     "base_uri": "https://localhost:8080/"
    },
    "executionInfo": {
     "elapsed": 10,
     "status": "ok",
     "timestamp": 1748793602985,
     "user": {
      "displayName": "carolina ospina",
      "userId": "05971480678282663569"
     },
     "user_tz": 300
    },
    "id": "CFmrHQNihHQx",
    "outputId": "4e6311db-f3ef-48be-d0ab-2639a7a59711"
   },
   "outputs": [
    {
     "name": "stdout",
     "output_type": "stream",
     "text": [
      "['Mercado', 2800000, True, ['Pan', 'Arroz', 'Carne'], 34.5, 'Leche', 'Almacenes Éxito']\n",
      "['Mercado', 2800000, True, ['Pan', 'Arroz', 'Carne'], 34.5, 'Almacenes Éxito']\n",
      "['Mercado', 2800000, True, ['Arroz', 'Carne'], 34.5, 'Almacenes Éxito']\n",
      "['Mercado', 2800000, True, ['Condimentos', 'Arroz', 'Carne'], 34.5, 'Almacenes Éxito']\n"
     ]
    }
   ],
   "source": [
    "mi_lista = ['Mercado', 2800000, True, ['Pan', 'Arroz', 'Carne'], 34.5, 'Leche']\n",
    "#Agregar datos a la lista:\n",
    "mi_lista.append('Almacenes Éxito')\n",
    "print(mi_lista)\n",
    "#Eliminar datos de la lista:\n",
    "mi_lista.remove('Leche')\n",
    "print(mi_lista)\n",
    "#Eliminar datos de la lista, pero de una posición determinada\n",
    "mi_lista[3].pop(0)\n",
    "print(mi_lista)\n",
    "#modificar una lista por otra\n",
    "mi_lista[3].insert(0, 'Condimentos')\n",
    "print(mi_lista)"
   ]
  },
  {
   "cell_type": "code",
   "execution_count": 8,
   "metadata": {
    "colab": {
     "base_uri": "https://localhost:8080/"
    },
    "executionInfo": {
     "elapsed": 2086,
     "status": "ok",
     "timestamp": 1748794199722,
     "user": {
      "displayName": "carolina ospina",
      "userId": "05971480678282663569"
     },
     "user_tz": 300
    },
    "id": "ARoVWx2CPvT4",
    "outputId": "654db702-7931-48a9-f495-2f393d9cc583"
   },
   "outputs": [
    {
     "name": "stdout",
     "output_type": "stream",
     "text": [
      "Ingrese un número del 1 al 12: 8\n",
      "El mes es: Agosto =)\n"
     ]
    }
   ],
   "source": [
    "#Indicar el nombre del mes cuando el usuario digite un número del mes\n",
    "meses= ['Enero', 'Febrero', 'Marzo', 'Abril', 'Mayo', 'Junio', 'Julio', 'Agosto', 'Septiembre', 'Octubre', 'Noviembre', 'Diciembre']\n",
    "valor_usuario = int(input(\"Ingrese un número del 1 al 12: \"))\n",
    "\n",
    "if valor_usuario > 0 and valor_usuario <= 12:\n",
    "  print(f\"El mes es: {meses[valor_usuario-1]} =)\")\n",
    "else:\n",
    "  print(\"El número ingresado no es valido\")\n"
   ]
  },
  {
   "cell_type": "code",
   "execution_count": 4,
   "metadata": {
    "colab": {
     "base_uri": "https://localhost:8080/",
     "height": 255
    },
    "executionInfo": {
     "elapsed": 2010,
     "status": "error",
     "timestamp": 1748804249585,
     "user": {
      "displayName": "carolina ospina",
      "userId": "05971480678282663569"
     },
     "user_tz": 300
    },
    "id": "W4tI86YJSTSR",
    "outputId": "db5d2015-7c60-4d9b-b362-40e929786c1f"
   },
   "outputs": [
    {
     "name": "stdout",
     "output_type": "stream",
     "text": [
      "Ingrese el nombre del mes: junio\n"
     ]
    },
    {
     "ename": "NameError",
     "evalue": "name 'mes_usuario' is not defined",
     "output_type": "error",
     "traceback": [
      "\u001b[0;31m---------------------------------------------------------------------------\u001b[0m",
      "\u001b[0;31mNameError\u001b[0m                                 Traceback (most recent call last)",
      "\u001b[0;32m<ipython-input-4-34ed87f5b154>\u001b[0m in \u001b[0;36m<cell line: 0>\u001b[0;34m()\u001b[0m\n\u001b[1;32m      1\u001b[0m \u001b[0;31m#Indicar que número de mes es, el nombre de mes que el usuario ingrese por teclado:\u001b[0m\u001b[0;34m\u001b[0m\u001b[0;34m\u001b[0m\u001b[0m\n\u001b[1;32m      2\u001b[0m \u001b[0mmes_usuario1\u001b[0m \u001b[0;34m=\u001b[0m \u001b[0minput\u001b[0m\u001b[0;34m(\u001b[0m\u001b[0;34m\"Ingrese el nombre del mes: \"\u001b[0m\u001b[0;34m)\u001b[0m\u001b[0;34m\u001b[0m\u001b[0;34m\u001b[0m\u001b[0m\n\u001b[0;32m----> 3\u001b[0;31m \u001b[0mmes_usuario1\u001b[0m \u001b[0;34m=\u001b[0m \u001b[0mmes_usuario\u001b[0m\u001b[0;34m.\u001b[0m\u001b[0mlower\u001b[0m\u001b[0;34m(\u001b[0m\u001b[0;34m)\u001b[0m\u001b[0;34m\u001b[0m\u001b[0;34m\u001b[0m\u001b[0m\n\u001b[0m\u001b[1;32m      4\u001b[0m \u001b[0mprint\u001b[0m\u001b[0;34m(\u001b[0m\u001b[0;34mf\"El mes del usuario es: {mes_usuario1}]\"\u001b[0m\u001b[0;34m)\u001b[0m\u001b[0;34m\u001b[0m\u001b[0;34m\u001b[0m\u001b[0m\n\u001b[1;32m      5\u001b[0m \u001b[0mmeses1\u001b[0m \u001b[0;34m=\u001b[0m \u001b[0;34m[\u001b[0m\u001b[0;34m'Enero'\u001b[0m\u001b[0;34m,\u001b[0m \u001b[0;34m'Febrero'\u001b[0m\u001b[0;34m,\u001b[0m \u001b[0;34m'Marzo'\u001b[0m\u001b[0;34m,\u001b[0m \u001b[0;34m'Abril'\u001b[0m\u001b[0;34m,\u001b[0m \u001b[0;34m'Mayo'\u001b[0m\u001b[0;34m,\u001b[0m \u001b[0;34m'Junio'\u001b[0m\u001b[0;34m,\u001b[0m \u001b[0;34m'Julio'\u001b[0m\u001b[0;34m,\u001b[0m \u001b[0;34m'Agosto'\u001b[0m\u001b[0;34m,\u001b[0m \u001b[0;34m'Septiembre'\u001b[0m\u001b[0;34m,\u001b[0m \u001b[0;34m'Octubre'\u001b[0m\u001b[0;34m,\u001b[0m \u001b[0;34m'Noviembre'\u001b[0m\u001b[0;34m,\u001b[0m \u001b[0;34m'Diciembre'\u001b[0m\u001b[0;34m]\u001b[0m\u001b[0;34m\u001b[0m\u001b[0;34m\u001b[0m\u001b[0m\n",
      "\u001b[0;31mNameError\u001b[0m: name 'mes_usuario' is not defined"
     ]
    }
   ],
   "source": [
    "#Indicar que número de mes es, el nombre de mes que el usuario ingrese por teclado:\n",
    "mes_usuario1 = input(\"Ingrese el nombre del mes: \")\n",
    "mes_usuario1 = mes_usuario.lower()\n",
    "print(f\"El mes del usuario es: {mes_usuario1}]\")\n",
    "meses1 = ['Enero', 'Febrero', 'Marzo', 'Abril', 'Mayo', 'Junio', 'Julio', 'Agosto', 'Septiembre', 'Octubre', 'Noviembre', 'Diciembre']\n",
    "print(f\"la lista es: {meses1}\")\n",
    "for mes in meses1:\n",
    "  mes_minus = mes.lower()\n",
    "  print(mes_minus)\n",
    "  if mes_usuario1==mes_minus:\n",
    "    print(f\"El mes ingresado es: {meses1.index(mes)+1}\")\n",
    "  else:\n",
    "    print(\"El mes ingresado no es valido\")"
   ]
  },
  {
   "cell_type": "markdown",
   "metadata": {},
   "source": [
    "##PANDAS##\n",
    "\n",
    "#DATAFRAME#"
   ]
  },
  {
   "cell_type": "markdown",
   "metadata": {
    "id": "QbLvA22khHjF"
   },
   "source": [
    "# Módulo 4 - Trabajando con Datos en Python\n",
    "* Lectura de archivos con open\n",
    "* Escritura de archivos con open\n",
    "* Carga de datos con Pandas\n",
    "* Trabajo y Guardado de datos con Pandas\n",
    "\n"
   ]
  },
  {
   "cell_type": "code",
   "execution_count": null,
   "metadata": {
    "id": "HT8U_juAhJZT"
   },
   "outputs": [],
   "source": []
  },
  {
   "cell_type": "markdown",
   "metadata": {
    "id": "2ltygOrWhJs3"
   },
   "source": [
    "# Módulo 5 - Trabajando con Arreglos Numpy y APIs Simples\n",
    "* Arreglos 1D de Numpy\n",
    "* Arreglos 2D de Numpy\n",
    "* APIs Simples\n",
    "* Configuración de API"
   ]
  },
  {
   "cell_type": "code",
   "execution_count": null,
   "metadata": {
    "id": "IlD_fhnuhNLX"
   },
   "outputs": [],
   "source": []
  }
 ],
 "metadata": {
  "colab": {
   "provenance": [
    {
     "file_id": "https://github.com/EderLara/IA-Explorador-Talento-Tech-/blob/main/Python_para_Machine_Learning.ipynb",
     "timestamp": 1748698312301
    }
   ]
  },
  "kernelspec": {
   "display_name": "Python 3",
   "name": "python3"
  },
  "language_info": {
   "name": "python"
  }
 },
 "nbformat": 4,
 "nbformat_minor": 0
}
