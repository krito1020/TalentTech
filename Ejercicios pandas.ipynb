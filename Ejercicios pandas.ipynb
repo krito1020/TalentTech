{
 "cells": [
  {
   "cell_type": "code",
   "execution_count": 71,
   "id": "9c8031f2-a71c-425d-a666-3fe6394e42bf",
   "metadata": {},
   "outputs": [],
   "source": [
    "import pandas as pd #Para importar pandas. Lo puedo renombrar con el AS"
   ]
  },
  {
   "cell_type": "code",
   "execution_count": 72,
   "id": "6c2a6bba-8eff-4e16-a3de-f98f02eef2eb",
   "metadata": {},
   "outputs": [
    {
     "name": "stdout",
     "output_type": "stream",
     "text": [
      "Series desde una lista:\n",
      "0    10\n",
      "1    20\n",
      "2    30\n",
      "3    40\n",
      "4    50\n",
      "dtype: int64\n",
      "\n",
      "Indice de la serie:  RangeIndex(start=0, stop=5, step=1)\n",
      "Valores de la serie:  [10 20 30 40 50]\n",
      "Tipo de datos:  int64\n"
     ]
    }
   ],
   "source": [
    "# Creando una serie desde una lista\n",
    "datos_lista = [10, 20, 30, 40, 50]\n",
    "serie_lista = pd.Series(datos_lista)\n",
    "print(\"Series desde una lista:\")\n",
    "print(serie_lista)\n",
    "print(\"\\nIndice de la serie: \", serie_lista.index)\n",
    "print(\"Valores de la serie: \", serie_lista.values)\n",
    "print(\"Tipo de datos: \", serie_lista.dtype)"
   ]
  },
  {
   "cell_type": "code",
   "execution_count": 73,
   "id": "b9de75ec-f58d-4577-91e2-b735834ed72b",
   "metadata": {},
   "outputs": [
    {
     "name": "stdout",
     "output_type": "stream",
     "text": [
      "Serie con fechas como índice:\n",
      " 2024-01-01    10\n",
      "2024-01-02    20\n",
      "2024-01-03    15\n",
      "2024-01-04    25\n",
      "2024-01-05    30\n",
      "Freq: D, dtype: int64\n"
     ]
    }
   ],
   "source": [
    "\"\"\" Series con Pandas \"\"\"\n",
    "\n",
    "# Ejemplo 1: Serie con fechas como índice\n",
    "fechas = pd.date_range(start='2024-01-01', periods=5)\n",
    "valores = [10, 20, 15, 25, 30]\n",
    "serie_fechas = pd.Series(valores, index=fechas)\n",
    "print(\"Serie con fechas como índice:\\n\", serie_fechas)"
   ]
  },
  {
   "cell_type": "code",
   "execution_count": 74,
   "id": "b850800f",
   "metadata": {},
   "outputs": [
    {
     "name": "stdout",
     "output_type": "stream",
     "text": [
      "\n",
      "Serie con etiquetas de texto:\n",
      " A    10\n",
      "B    20\n",
      "C    15\n",
      "D    25\n",
      "E    30\n",
      "dtype: int64\n"
     ]
    }
   ],
   "source": [
    "# Ejemplo 2: Serie con etiquetas de texto personalizadas\n",
    "etiquetas = ['A', 'B', 'C', 'D', 'E']\n",
    "serie_etiquetas = pd.Series(valores, index=etiquetas)\n",
    "print(\"\\nSerie con etiquetas de texto:\\n\", serie_etiquetas)"
   ]
  },
  {
   "cell_type": "code",
   "execution_count": 75,
   "id": "ab9693e7",
   "metadata": {},
   "outputs": [
    {
     "name": "stdout",
     "output_type": "stream",
     "text": [
      "\n",
      "Serie desde un diccionario:\n",
      " A    10\n",
      "B    20\n",
      "C    15\n",
      "dtype: int64\n"
     ]
    }
   ],
   "source": [
    "# Ejemplo 3: Serie a partir de un diccionario\n",
    "diccionario = {'A': 10, 'B': 20, 'C': 15}\n",
    "serie_diccionario = pd.Series(diccionario)\n",
    "print(\"\\nSerie desde un diccionario:\\n\", serie_diccionario)"
   ]
  },
  {
   "cell_type": "code",
   "execution_count": 76,
   "id": "3b523dcc",
   "metadata": {},
   "outputs": [
    {
     "name": "stdout",
     "output_type": "stream",
     "text": [
      "\n",
      "Serie con valores mixtos:\n",
      " 0      10\n",
      "1    Hola\n",
      "2    3.14\n",
      "3    None\n",
      "4    True\n",
      "dtype: object\n",
      "<class 'pandas.core.series.Series'>\n",
      "RangeIndex: 5 entries, 0 to 4\n",
      "Series name: None\n",
      "Non-Null Count  Dtype \n",
      "--------------  ----- \n",
      "4 non-null      object\n",
      "dtypes: object(1)\n",
      "memory usage: 172.0+ bytes\n",
      "\n",
      "Información de la serie mixta:\n",
      " None\n"
     ]
    }
   ],
   "source": [
    "# Ejemplo 4: Serie con valores mixtos y NaN (Not a Number)\n",
    "datos_mixtos = [10, 'Hola', 3.14, None, True]\n",
    "serie_mixta = pd.Series(datos_mixtos)\n",
    "print(\"\\nSerie con valores mixtos:\\n\", serie_mixta)\n",
    "print(\"\\nInformación de la serie mixta:\\n\", serie_mixta.info())"
   ]
  },
  {
   "cell_type": "code",
   "execution_count": 77,
   "id": "d11b2a2a",
   "metadata": {},
   "outputs": [
    {
     "name": "stdout",
     "output_type": "stream",
     "text": [
      "\n",
      "Acceso por posición (índice numérico): 10\n",
      "\n",
      "Acceso por etiqueta: 15\n"
     ]
    }
   ],
   "source": [
    "# Ejemplo 5: Accediendo a elementos de la serie\n",
    "print(\"\\nAcceso por posición (índice numérico):\", serie_etiquetas.iloc[0])\n",
    "print(\"\\nAcceso por etiqueta:\", serie_etiquetas['C'])"
   ]
  },
  {
   "cell_type": "markdown",
   "id": "cf5ba113",
   "metadata": {},
   "source": [
    "Dataframes\n",
    "Un DataFrame se puede crear de muchas maneras:\n",
    "\n",
    "Desde un diccionario de listas o Series: * Cada clave del diccionario se convierte en una columna, y las listas (o Series) asociadas a esas claves se convierten en los datos de esas columnas. "
   ]
  },
  {
   "cell_type": "code",
   "execution_count": 78,
   "id": "d8a4be9f",
   "metadata": {},
   "outputs": [
    {
     "name": "stdout",
     "output_type": "stream",
     "text": [
      "\n",
      "DataFrame desde un diccionario de listas:\n",
      "  Nombre  Edad     Ciudad\n",
      "0    Ana    28     Madrid\n",
      "1   Luis    34  Barcelona\n",
      "2  Marta    29   Valencia\n",
      "3   Juan    42    Sevilla\n"
     ]
    }
   ],
   "source": [
    "datos_df = { 'Nombre': ['Ana', 'Luis', 'Marta', 'Juan'], 'Edad': [28, 34, 29, 42], 'Ciudad': ['Madrid', 'Barcelona', 'Valencia', 'Sevilla'] } \n",
    "df_desde_dic_listas = pd.DataFrame(datos_df) \n",
    "print(\"\\nDataFrame desde un diccionario de listas:\")\n",
    "print(df_desde_dic_listas)"
   ]
  },
  {
   "cell_type": "markdown",
   "id": "14ba1a8e",
   "metadata": {},
   "source": [
    "Desde un diccionario de listas con índice personalizado:"
   ]
  },
  {
   "cell_type": "code",
   "execution_count": 79,
   "id": "c74e5303",
   "metadata": {},
   "outputs": [
    {
     "name": "stdout",
     "output_type": "stream",
     "text": [
      "\n",
      "DataFrame con índice personalizado:\n",
      "         Manzanas  Naranjas\n",
      "TiendaA         3         0\n",
      "TiendaB         2         3\n",
      "TiendaC         0         7\n",
      "TiendaD         1         2\n"
     ]
    }
   ],
   "source": [
    "datos_df = {\n",
    "      'Manzanas': [3, 2, 0, 1],\n",
    "      'Naranjas': [0, 3, 7, 2]\n",
    "            }\n",
    "indices_df = ['TiendaA', 'TiendaB', 'TiendaC', 'TiendaD']\n",
    "df_con_indice = pd.DataFrame(datos_df, index = indices_df)\n",
    "print(\"\\nDataFrame con índice personalizado:\")\n",
    "print(df_con_indice)"
   ]
  },
  {
   "cell_type": "markdown",
   "id": "88707561",
   "metadata": {},
   "source": [
    "3. Desde una lista de diccionarios:\n",
    "  * Cada diccionario en la lista se convierte en una fila del DataFrame. Las claves de los diccionarios se convierten en los nombres de las columnas."
   ]
  },
  {
   "cell_type": "code",
   "execution_count": 80,
   "id": "3572bbf8",
   "metadata": {},
   "outputs": [
    {
     "name": "stdout",
     "output_type": "stream",
     "text": [
      "\n",
      "DataFrame desde una lista de diccionarios:\n",
      "   Nombre  Edad  Profesion\n",
      "0  Carlos    25  Ingeniero\n",
      "1   Laura    30    Doctora\n",
      "2   Pedro    22        NaN\n"
     ]
    }
   ],
   "source": [
    "lista_de_diccionarios = [\n",
    "        {'Nombre': 'Carlos', 'Edad': 25, 'Profesion': 'Ingeniero'},\n",
    "        {'Nombre': 'Laura', 'Edad': 30, 'Profesion': 'Doctora'},\n",
    "        {'Nombre': 'Pedro', 'Edad': 22} # Nota: Falta 'Profesion' aquí\n",
    "    ]\n",
    "df_desde_lista_dic = pd.DataFrame(lista_de_diccionarios)\n",
    "print(\"\\nDataFrame desde una lista de diccionarios:\")\n",
    "print(df_desde_lista_dic)"
   ]
  },
  {
   "cell_type": "markdown",
   "id": "51b45216",
   "metadata": {},
   "source": [
    "4. Desde un array de NumPy (con nombres de columna e índice opcionales):"
   ]
  },
  {
   "cell_type": "code",
   "execution_count": 81,
   "id": "3b00ea38",
   "metadata": {},
   "outputs": [],
   "source": [
    "import numpy as np"
   ]
  },
  {
   "cell_type": "code",
   "execution_count": 82,
   "id": "d927ce5e",
   "metadata": {},
   "outputs": [
    {
     "name": "stdout",
     "output_type": "stream",
     "text": [
      "\n",
      "DataFrame desde un array de NumPy:\n",
      "       A  B  C\n",
      "Fila1  1  2  3\n",
      "Fila2  4  5  6\n",
      "Fila3  7  8  9\n"
     ]
    }
   ],
   "source": [
    "array_np = np.array([[1, 2, 3], [4, 5, 6], [7, 8, 9]])\n",
    "df_desde_numpy = pd.DataFrame(array_np, columns=['A', 'B', 'C'], index=['Fila1', 'Fila2', 'Fila3'])\n",
    "print(\"\\nDataFrame desde un array de NumPy:\")\n",
    "print(df_desde_numpy)"
   ]
  },
  {
   "cell_type": "markdown",
   "id": "1d72a8fb",
   "metadata": {},
   "source": [
    "\"\"\" Creando Dataframes desde una lista \"\"\"\n",
    "\n",
    "# Ejemplo 1: DataFrame a partir de una lista de listas"
   ]
  },
  {
   "cell_type": "code",
   "execution_count": 83,
   "id": "72d539e4",
   "metadata": {},
   "outputs": [
    {
     "name": "stdout",
     "output_type": "stream",
     "text": [
      "DataFrame 1:\n",
      "     Nombre  Edad  Profesión\n",
      "0    Alice    25  Ingeniera\n",
      "1      Bob    30     Doctor\n",
      "2  Charlie    28    Abogada\n"
     ]
    }
   ],
   "source": [
    "\n",
    "data = [['Alice', 25, 'Ingeniera'],\n",
    "        ['Bob', 30, 'Doctor'],\n",
    "        ['Charlie', 28, 'Abogada']]\n",
    "df1 = pd.DataFrame(data, columns=['Nombre', 'Edad', 'Profesión'])\n",
    "print(\"DataFrame 1:\\n\", df1)"
   ]
  },
  {
   "cell_type": "code",
   "execution_count": 84,
   "id": "7be3e7fe",
   "metadata": {},
   "outputs": [],
   "source": [
    "# Ejemplo 2: DataFrame a partir de una lista de diccionarios"
   ]
  },
  {
   "cell_type": "code",
   "execution_count": 85,
   "id": "1564e48a",
   "metadata": {},
   "outputs": [
    {
     "name": "stdout",
     "output_type": "stream",
     "text": [
      "\n",
      "DataFrame 2:\n",
      "     Nombre  Edad  Profesión\n",
      "0    Alice    25  Ingeniera\n",
      "1      Bob    30     Doctor\n",
      "2  Charlie    28    Abogada\n"
     ]
    }
   ],
   "source": [
    "\n",
    "data = [{'Nombre': 'Alice', 'Edad': 25, 'Profesión': 'Ingeniera'},\n",
    "        {'Nombre': 'Bob', 'Edad': 30, 'Profesión': 'Doctor'},\n",
    "        {'Nombre': 'Charlie', 'Edad': 28, 'Profesión': 'Abogada'}]\n",
    "df2 = pd.DataFrame(data)\n",
    "print(\"\\nDataFrame 2:\\n\", df2)"
   ]
  },
  {
   "cell_type": "markdown",
   "id": "18c11cd5",
   "metadata": {},
   "source": [
    "# Ejemplo 3: DataFrame con índice personalizado a partir de una lista de listas"
   ]
  },
  {
   "cell_type": "code",
   "execution_count": 86,
   "id": "267cfa14",
   "metadata": {},
   "outputs": [
    {
     "name": "stdout",
     "output_type": "stream",
     "text": [
      "\n",
      "DataFrame 3 (con índice personalizado):\n",
      "     Nombre  Edad  Profesión\n",
      "A    Alice    25  Ingeniera\n",
      "B      Bob    30     Doctor\n",
      "C  Charlie    28    Abogada\n"
     ]
    }
   ],
   "source": [
    "data = [['Alice', 25, 'Ingeniera'],\n",
    "        ['Bob', 30, 'Doctor'],\n",
    "        ['Charlie', 28, 'Abogada']]\n",
    "\n",
    "index_personalizado = ['A', 'B', 'C'] # Índice personalizado\n",
    "\n",
    "df3 = pd.DataFrame(data, index=index_personalizado, columns=['Nombre', 'Edad', 'Profesión'])\n",
    "print(\"\\nDataFrame 3 (con índice personalizado):\\n\", df3)"
   ]
  },
  {
   "cell_type": "markdown",
   "id": "1e93e2f0",
   "metadata": {},
   "source": [
    "# Ejemplo 4: DataFrame a partir de una lista de tuplas"
   ]
  },
  {
   "cell_type": "code",
   "execution_count": 87,
   "id": "68bca784",
   "metadata": {},
   "outputs": [
    {
     "name": "stdout",
     "output_type": "stream",
     "text": [
      "\n",
      "DataFrame 4 (a partir de tuplas):\n",
      "     Nombre  Edad  Profesión\n",
      "0    Alice    25  Ingeniera\n",
      "1      Bob    30     Doctor\n",
      "2  Charlie    28    Abogada\n"
     ]
    }
   ],
   "source": [
    "data = [('Alice', 25, 'Ingeniera'),\n",
    "        ('Bob', 30, 'Doctor'),\n",
    "        ('Charlie', 28, 'Abogada')]\n",
    "df4 = pd.DataFrame(data, columns=['Nombre', 'Edad', 'Profesión'])\n",
    "print(\"\\nDataFrame 4 (a partir de tuplas):\\n\", df4)"
   ]
  },
  {
   "cell_type": "markdown",
   "id": "c226a77b",
   "metadata": {},
   "source": [
    "# Creando un DataFrame de ejemplo más completo"
   ]
  },
  {
   "cell_type": "code",
   "execution_count": 88,
   "id": "49c0700a",
   "metadata": {},
   "outputs": [
    {
     "name": "stdout",
     "output_type": "stream",
     "text": [
      "DataFrame de ejemplo creado:\n",
      "   ID_Producto Nombre_Producto Categoría  Precio_Unitario  Stock_Disponible  \\\n",
      "0          101         Manzana     Fruta              1.2             100.0   \n",
      "1          102          Banana     Fruta              0.5             150.0   \n",
      "2          103         Naranja     Fruta              0.8               NaN   \n",
      "3          104         Manzana     Fruta              1.2              80.0   \n",
      "4          105             Uva     Fruta              2.5              60.0   \n",
      "5          106            Pera     Fruta              1.5             120.0   \n",
      "6          107          Banana     Fruta              0.6             140.0   \n",
      "7          108            Kiwi     Fruta              NaN              75.0   \n",
      "\n",
      "  Fecha_Ingreso  En_Oferta  \n",
      "0    2024-01-10      False  \n",
      "1    2024-01-11       True  \n",
      "2    2024-01-10      False  \n",
      "3    2024-01-12      False  \n",
      "4    2024-01-13       True  \n",
      "5    2024-01-11       True  \n",
      "6    2024-01-14      False  \n",
      "7    2024-01-15       True  \n"
     ]
    },
    {
     "data": {
      "text/html": [
       "<div>\n",
       "<style scoped>\n",
       "    .dataframe tbody tr th:only-of-type {\n",
       "        vertical-align: middle;\n",
       "    }\n",
       "\n",
       "    .dataframe tbody tr th {\n",
       "        vertical-align: top;\n",
       "    }\n",
       "\n",
       "    .dataframe thead th {\n",
       "        text-align: right;\n",
       "    }\n",
       "</style>\n",
       "<table border=\"1\" class=\"dataframe\">\n",
       "  <thead>\n",
       "    <tr style=\"text-align: right;\">\n",
       "      <th></th>\n",
       "      <th>ID_Producto</th>\n",
       "      <th>Nombre_Producto</th>\n",
       "      <th>Categoría</th>\n",
       "      <th>Precio_Unitario</th>\n",
       "      <th>Stock_Disponible</th>\n",
       "      <th>Fecha_Ingreso</th>\n",
       "      <th>En_Oferta</th>\n",
       "    </tr>\n",
       "  </thead>\n",
       "  <tbody>\n",
       "    <tr>\n",
       "      <th>0</th>\n",
       "      <td>101</td>\n",
       "      <td>Manzana</td>\n",
       "      <td>Fruta</td>\n",
       "      <td>1.2</td>\n",
       "      <td>100.0</td>\n",
       "      <td>2024-01-10</td>\n",
       "      <td>False</td>\n",
       "    </tr>\n",
       "    <tr>\n",
       "      <th>1</th>\n",
       "      <td>102</td>\n",
       "      <td>Banana</td>\n",
       "      <td>Fruta</td>\n",
       "      <td>0.5</td>\n",
       "      <td>150.0</td>\n",
       "      <td>2024-01-11</td>\n",
       "      <td>True</td>\n",
       "    </tr>\n",
       "    <tr>\n",
       "      <th>2</th>\n",
       "      <td>103</td>\n",
       "      <td>Naranja</td>\n",
       "      <td>Fruta</td>\n",
       "      <td>0.8</td>\n",
       "      <td>NaN</td>\n",
       "      <td>2024-01-10</td>\n",
       "      <td>False</td>\n",
       "    </tr>\n",
       "    <tr>\n",
       "      <th>3</th>\n",
       "      <td>104</td>\n",
       "      <td>Manzana</td>\n",
       "      <td>Fruta</td>\n",
       "      <td>1.2</td>\n",
       "      <td>80.0</td>\n",
       "      <td>2024-01-12</td>\n",
       "      <td>False</td>\n",
       "    </tr>\n",
       "    <tr>\n",
       "      <th>4</th>\n",
       "      <td>105</td>\n",
       "      <td>Uva</td>\n",
       "      <td>Fruta</td>\n",
       "      <td>2.5</td>\n",
       "      <td>60.0</td>\n",
       "      <td>2024-01-13</td>\n",
       "      <td>True</td>\n",
       "    </tr>\n",
       "    <tr>\n",
       "      <th>5</th>\n",
       "      <td>106</td>\n",
       "      <td>Pera</td>\n",
       "      <td>Fruta</td>\n",
       "      <td>1.5</td>\n",
       "      <td>120.0</td>\n",
       "      <td>2024-01-11</td>\n",
       "      <td>True</td>\n",
       "    </tr>\n",
       "    <tr>\n",
       "      <th>6</th>\n",
       "      <td>107</td>\n",
       "      <td>Banana</td>\n",
       "      <td>Fruta</td>\n",
       "      <td>0.6</td>\n",
       "      <td>140.0</td>\n",
       "      <td>2024-01-14</td>\n",
       "      <td>False</td>\n",
       "    </tr>\n",
       "    <tr>\n",
       "      <th>7</th>\n",
       "      <td>108</td>\n",
       "      <td>Kiwi</td>\n",
       "      <td>Fruta</td>\n",
       "      <td>NaN</td>\n",
       "      <td>75.0</td>\n",
       "      <td>2024-01-15</td>\n",
       "      <td>True</td>\n",
       "    </tr>\n",
       "  </tbody>\n",
       "</table>\n",
       "</div>"
      ],
      "text/plain": [
       "   ID_Producto Nombre_Producto Categoría  Precio_Unitario  Stock_Disponible  \\\n",
       "0          101         Manzana     Fruta              1.2             100.0   \n",
       "1          102          Banana     Fruta              0.5             150.0   \n",
       "2          103         Naranja     Fruta              0.8               NaN   \n",
       "3          104         Manzana     Fruta              1.2              80.0   \n",
       "4          105             Uva     Fruta              2.5              60.0   \n",
       "5          106            Pera     Fruta              1.5             120.0   \n",
       "6          107          Banana     Fruta              0.6             140.0   \n",
       "7          108            Kiwi     Fruta              NaN              75.0   \n",
       "\n",
       "  Fecha_Ingreso  En_Oferta  \n",
       "0    2024-01-10      False  \n",
       "1    2024-01-11       True  \n",
       "2    2024-01-10      False  \n",
       "3    2024-01-12      False  \n",
       "4    2024-01-13       True  \n",
       "5    2024-01-11       True  \n",
       "6    2024-01-14      False  \n",
       "7    2024-01-15       True  "
      ]
     },
     "metadata": {},
     "output_type": "display_data"
    },
    {
     "data": {
      "text/html": [
       "<div>\n",
       "<style scoped>\n",
       "    .dataframe tbody tr th:only-of-type {\n",
       "        vertical-align: middle;\n",
       "    }\n",
       "\n",
       "    .dataframe tbody tr th {\n",
       "        vertical-align: top;\n",
       "    }\n",
       "\n",
       "    .dataframe thead th {\n",
       "        text-align: right;\n",
       "    }\n",
       "</style>\n",
       "<table border=\"1\" class=\"dataframe\">\n",
       "  <thead>\n",
       "    <tr style=\"text-align: right;\">\n",
       "      <th></th>\n",
       "      <th>ID_Producto</th>\n",
       "      <th>Precio_Unitario</th>\n",
       "      <th>Stock_Disponible</th>\n",
       "      <th>Fecha_Ingreso</th>\n",
       "    </tr>\n",
       "  </thead>\n",
       "  <tbody>\n",
       "    <tr>\n",
       "      <th>count</th>\n",
       "      <td>8.00000</td>\n",
       "      <td>7.000000</td>\n",
       "      <td>7.000000</td>\n",
       "      <td>8</td>\n",
       "    </tr>\n",
       "    <tr>\n",
       "      <th>mean</th>\n",
       "      <td>104.50000</td>\n",
       "      <td>1.185714</td>\n",
       "      <td>103.571429</td>\n",
       "      <td>2024-01-12 00:00:00</td>\n",
       "    </tr>\n",
       "    <tr>\n",
       "      <th>min</th>\n",
       "      <td>101.00000</td>\n",
       "      <td>0.500000</td>\n",
       "      <td>60.000000</td>\n",
       "      <td>2024-01-10 00:00:00</td>\n",
       "    </tr>\n",
       "    <tr>\n",
       "      <th>25%</th>\n",
       "      <td>102.75000</td>\n",
       "      <td>0.700000</td>\n",
       "      <td>77.500000</td>\n",
       "      <td>2024-01-10 18:00:00</td>\n",
       "    </tr>\n",
       "    <tr>\n",
       "      <th>50%</th>\n",
       "      <td>104.50000</td>\n",
       "      <td>1.200000</td>\n",
       "      <td>100.000000</td>\n",
       "      <td>2024-01-11 12:00:00</td>\n",
       "    </tr>\n",
       "    <tr>\n",
       "      <th>75%</th>\n",
       "      <td>106.25000</td>\n",
       "      <td>1.350000</td>\n",
       "      <td>130.000000</td>\n",
       "      <td>2024-01-13 06:00:00</td>\n",
       "    </tr>\n",
       "    <tr>\n",
       "      <th>max</th>\n",
       "      <td>108.00000</td>\n",
       "      <td>2.500000</td>\n",
       "      <td>150.000000</td>\n",
       "      <td>2024-01-15 00:00:00</td>\n",
       "    </tr>\n",
       "    <tr>\n",
       "      <th>std</th>\n",
       "      <td>2.44949</td>\n",
       "      <td>0.681734</td>\n",
       "      <td>34.243526</td>\n",
       "      <td>NaN</td>\n",
       "    </tr>\n",
       "  </tbody>\n",
       "</table>\n",
       "</div>"
      ],
      "text/plain": [
       "       ID_Producto  Precio_Unitario  Stock_Disponible        Fecha_Ingreso\n",
       "count      8.00000         7.000000          7.000000                    8\n",
       "mean     104.50000         1.185714        103.571429  2024-01-12 00:00:00\n",
       "min      101.00000         0.500000         60.000000  2024-01-10 00:00:00\n",
       "25%      102.75000         0.700000         77.500000  2024-01-10 18:00:00\n",
       "50%      104.50000         1.200000        100.000000  2024-01-11 12:00:00\n",
       "75%      106.25000         1.350000        130.000000  2024-01-13 06:00:00\n",
       "max      108.00000         2.500000        150.000000  2024-01-15 00:00:00\n",
       "std        2.44949         0.681734         34.243526                  NaN"
      ]
     },
     "metadata": {},
     "output_type": "display_data"
    },
    {
     "name": "stdout",
     "output_type": "stream",
     "text": [
      "\n",
      "==================================================\n",
      "\n"
     ]
    }
   ],
   "source": [
    "datos_ejemplo = { # Datos de ejemplo para crear un DataFrame\n",
    "    'ID_Producto': [101, 102, 103, 104, 105, 106, 107, 108],\n",
    "    'Nombre_Producto': ['Manzana', 'Banana', 'Naranja', 'Manzana', 'Uva', 'Pera', 'Banana', 'Kiwi'],\n",
    "    'Categoría': ['Fruta', 'Fruta', 'Fruta', 'Fruta', 'Fruta', 'Fruta', 'Fruta', 'Fruta'],\n",
    "    'Precio_Unitario': [1.2, 0.5, 0.8, 1.2, 2.5, 1.5, 0.6, np.nan], # Incluimos un NaN\n",
    "    'Stock_Disponible': [100, 150, np.nan, 80, 60, 120, 140, 75],  # Incluimos un NaN\n",
    "    'Fecha_Ingreso': pd.to_datetime(['2024-01-10', '2024-01-11', '2024-01-10', '2024-01-12',\n",
    "                                   '2024-01-13', '2024-01-11', '2024-01-14', '2024-01-15']),\n",
    "    'En_Oferta': [False, True, False, False, True, True, False, True]\n",
    "}\n",
    "\n",
    "df = pd.DataFrame(datos_ejemplo) # Para crear un DataFrame con los datos de ejemplo\n",
    "\n",
    "print(\"DataFrame de ejemplo creado:\")\n",
    "print(df)\n",
    "display(df) # Mostrar el DataFrame de ejemplo\n",
    "display(df.describe()) # Mostrar estadísticas descriptivas del DataFrame\n",
    "print(\"\\n\" + \"=\"*50 + \"\\n\")           # Separador visual"
   ]
  },
  {
   "cell_type": "markdown",
   "id": "4d3c6aee",
   "metadata": {},
   "source": [
    "Herramientas de Inspección\n",
    "head(n) y tail(n): Ver las primeras/últimas filas:\n",
    "Estos métodos te permiten ver una muestra de tus datos, por defecto las primeras 5 filas con head() y las últimas 5 con tail(). Puedes pasar un número n como argumento para ver una cantidad diferente de filas.\n"
   ]
  },
  {
   "cell_type": "code",
   "execution_count": 89,
   "id": "14726f22",
   "metadata": {},
   "outputs": [
    {
     "name": "stdout",
     "output_type": "stream",
     "text": [
      "Primeras 3 filas del DataFrame (df.head(3)):\n"
     ]
    },
    {
     "data": {
      "text/html": [
       "<div>\n",
       "<style scoped>\n",
       "    .dataframe tbody tr th:only-of-type {\n",
       "        vertical-align: middle;\n",
       "    }\n",
       "\n",
       "    .dataframe tbody tr th {\n",
       "        vertical-align: top;\n",
       "    }\n",
       "\n",
       "    .dataframe thead th {\n",
       "        text-align: right;\n",
       "    }\n",
       "</style>\n",
       "<table border=\"1\" class=\"dataframe\">\n",
       "  <thead>\n",
       "    <tr style=\"text-align: right;\">\n",
       "      <th></th>\n",
       "      <th>ID_Producto</th>\n",
       "      <th>Nombre_Producto</th>\n",
       "      <th>Categoría</th>\n",
       "      <th>Precio_Unitario</th>\n",
       "      <th>Stock_Disponible</th>\n",
       "      <th>Fecha_Ingreso</th>\n",
       "      <th>En_Oferta</th>\n",
       "    </tr>\n",
       "  </thead>\n",
       "  <tbody>\n",
       "    <tr>\n",
       "      <th>0</th>\n",
       "      <td>101</td>\n",
       "      <td>Manzana</td>\n",
       "      <td>Fruta</td>\n",
       "      <td>1.2</td>\n",
       "      <td>100.0</td>\n",
       "      <td>2024-01-10</td>\n",
       "      <td>False</td>\n",
       "    </tr>\n",
       "    <tr>\n",
       "      <th>1</th>\n",
       "      <td>102</td>\n",
       "      <td>Banana</td>\n",
       "      <td>Fruta</td>\n",
       "      <td>0.5</td>\n",
       "      <td>150.0</td>\n",
       "      <td>2024-01-11</td>\n",
       "      <td>True</td>\n",
       "    </tr>\n",
       "    <tr>\n",
       "      <th>2</th>\n",
       "      <td>103</td>\n",
       "      <td>Naranja</td>\n",
       "      <td>Fruta</td>\n",
       "      <td>0.8</td>\n",
       "      <td>NaN</td>\n",
       "      <td>2024-01-10</td>\n",
       "      <td>False</td>\n",
       "    </tr>\n",
       "  </tbody>\n",
       "</table>\n",
       "</div>"
      ],
      "text/plain": [
       "   ID_Producto Nombre_Producto Categoría  Precio_Unitario  Stock_Disponible  \\\n",
       "0          101         Manzana     Fruta              1.2             100.0   \n",
       "1          102          Banana     Fruta              0.5             150.0   \n",
       "2          103         Naranja     Fruta              0.8               NaN   \n",
       "\n",
       "  Fecha_Ingreso  En_Oferta  \n",
       "0    2024-01-10      False  \n",
       "1    2024-01-11       True  \n",
       "2    2024-01-10      False  "
      ]
     },
     "metadata": {},
     "output_type": "display_data"
    },
    {
     "name": "stdout",
     "output_type": "stream",
     "text": [
      "\n",
      "Últimas 2 filas del DataFrame (df.tail(2)):\n"
     ]
    },
    {
     "data": {
      "text/html": [
       "<div>\n",
       "<style scoped>\n",
       "    .dataframe tbody tr th:only-of-type {\n",
       "        vertical-align: middle;\n",
       "    }\n",
       "\n",
       "    .dataframe tbody tr th {\n",
       "        vertical-align: top;\n",
       "    }\n",
       "\n",
       "    .dataframe thead th {\n",
       "        text-align: right;\n",
       "    }\n",
       "</style>\n",
       "<table border=\"1\" class=\"dataframe\">\n",
       "  <thead>\n",
       "    <tr style=\"text-align: right;\">\n",
       "      <th></th>\n",
       "      <th>ID_Producto</th>\n",
       "      <th>Nombre_Producto</th>\n",
       "      <th>Categoría</th>\n",
       "      <th>Precio_Unitario</th>\n",
       "      <th>Stock_Disponible</th>\n",
       "      <th>Fecha_Ingreso</th>\n",
       "      <th>En_Oferta</th>\n",
       "    </tr>\n",
       "  </thead>\n",
       "  <tbody>\n",
       "    <tr>\n",
       "      <th>6</th>\n",
       "      <td>107</td>\n",
       "      <td>Banana</td>\n",
       "      <td>Fruta</td>\n",
       "      <td>0.6</td>\n",
       "      <td>140.0</td>\n",
       "      <td>2024-01-14</td>\n",
       "      <td>False</td>\n",
       "    </tr>\n",
       "    <tr>\n",
       "      <th>7</th>\n",
       "      <td>108</td>\n",
       "      <td>Kiwi</td>\n",
       "      <td>Fruta</td>\n",
       "      <td>NaN</td>\n",
       "      <td>75.0</td>\n",
       "      <td>2024-01-15</td>\n",
       "      <td>True</td>\n",
       "    </tr>\n",
       "  </tbody>\n",
       "</table>\n",
       "</div>"
      ],
      "text/plain": [
       "   ID_Producto Nombre_Producto Categoría  Precio_Unitario  Stock_Disponible  \\\n",
       "6          107          Banana     Fruta              0.6             140.0   \n",
       "7          108            Kiwi     Fruta              NaN              75.0   \n",
       "\n",
       "  Fecha_Ingreso  En_Oferta  \n",
       "6    2024-01-14      False  \n",
       "7    2024-01-15       True  "
      ]
     },
     "metadata": {},
     "output_type": "display_data"
    },
    {
     "data": {
      "text/plain": [
       "'=================================================='"
      ]
     },
     "metadata": {},
     "output_type": "display_data"
    }
   ],
   "source": [
    "print(\"Primeras 3 filas del DataFrame (df.head(3)):\")\n",
    "display(df.head(3))\n",
    "\n",
    "print(\"\\nÚltimas 2 filas del DataFrame (df.tail(2)):\")\n",
    "display(df.tail(2))\n",
    "display(\"=\"*50)"
   ]
  },
  {
   "cell_type": "markdown",
   "id": "652d9198",
   "metadata": {},
   "source": [
    "shape: Dimensiones del DataFrame:\n",
    "Es un atributo (no un método, por eso no lleva paréntesis) que devuelve una tupla con el número de filas y el número de columnas."
   ]
  },
  {
   "cell_type": "code",
   "execution_count": 95,
   "id": "c75e2c62",
   "metadata": {},
   "outputs": [
    {
     "name": "stdout",
     "output_type": "stream",
     "text": [
      "Dimensiones del DataFrame (filas, columnas) (df.shape):\n"
     ]
    },
    {
     "data": {
      "text/plain": [
       "(8, 7)"
      ]
     },
     "metadata": {},
     "output_type": "display_data"
    },
    {
     "name": "stdout",
     "output_type": "stream",
     "text": [
      "El DataFrame tiene 8 filas y 7 columnas.\n",
      "\n",
      "==================================================\n",
      "\n"
     ]
    }
   ],
   "source": [
    "print(\"Dimensiones del DataFrame (filas, columnas) (df.shape):\")\n",
    "display(df.shape)\n",
    "print(f\"El DataFrame tiene {df.shape[0]} filas y {df.shape[1]} columnas.\") # Forma alternativa\n",
    "print(\"\\n\" + \"=\"*50 + \"\\n\") # Separador visual"
   ]
  },
  {
   "cell_type": "markdown",
   "id": "da6167e0",
   "metadata": {},
   "source": [
    "info(): Resumen conciso del DataFrame\n",
    "Este método es extremadamente útil. Proporciona información sobre el índice, las columnas, los tipos de datos de cada columna, la cantidad de valores no nulos y el uso de memoria."
   ]
  },
  {
   "cell_type": "code",
   "execution_count": 91,
   "id": "905ead78",
   "metadata": {},
   "outputs": [
    {
     "name": "stdout",
     "output_type": "stream",
     "text": [
      "Información concisa del DataFrame (df.info()):\n",
      "<class 'pandas.core.frame.DataFrame'>\n",
      "RangeIndex: 8 entries, 0 to 7\n",
      "Data columns (total 7 columns):\n",
      " #   Column            Non-Null Count  Dtype         \n",
      "---  ------            --------------  -----         \n",
      " 0   ID_Producto       8 non-null      int64         \n",
      " 1   Nombre_Producto   8 non-null      object        \n",
      " 2   Categoría         8 non-null      object        \n",
      " 3   Precio_Unitario   7 non-null      float64       \n",
      " 4   Stock_Disponible  7 non-null      float64       \n",
      " 5   Fecha_Ingreso     8 non-null      datetime64[ns]\n",
      " 6   En_Oferta         8 non-null      bool          \n",
      "dtypes: bool(1), datetime64[ns](1), float64(2), int64(1), object(2)\n",
      "memory usage: 524.0+ bytes\n",
      "\n",
      "==================================================\n",
      "\n"
     ]
    }
   ],
   "source": [
    "print(\"Información concisa del DataFrame (df.info()):\")\n",
    "df.info()\n",
    "print(\"\\n\" + \"=\"*50 + \"\\n\")\n",
    "\n",
    "#Hay 8 filas (entradas).\n",
    "#Los nombres de las columnas y cuántos valores no nulos tiene cada una (esto ayuda a identificar columnas con datos faltantes, como Precio_Unitario y Stock_Disponible).\n",
    "#El tipo de dato (Dtype) de cada columna (object usualmente significa string, datetime64[ns] para fechas, etc.)."
   ]
  },
  {
   "cell_type": "markdown",
   "id": "e78c8b3f",
   "metadata": {},
   "source": [
    "describe(): Estadísticas descriptivas\n",
    "Este método genera estadísticas descriptivas para las columnas numéricas por defecto (count, mean, std, min, 25th percentile, median (50th), 75th percentile, max)."
   ]
  },
  {
   "cell_type": "code",
   "execution_count": 92,
   "id": "2ced408c",
   "metadata": {},
   "outputs": [
    {
     "name": "stdout",
     "output_type": "stream",
     "text": [
      "Estadísticas descriptivas para columnas numéricas (df.describe()):\n"
     ]
    },
    {
     "data": {
      "text/html": [
       "<div>\n",
       "<style scoped>\n",
       "    .dataframe tbody tr th:only-of-type {\n",
       "        vertical-align: middle;\n",
       "    }\n",
       "\n",
       "    .dataframe tbody tr th {\n",
       "        vertical-align: top;\n",
       "    }\n",
       "\n",
       "    .dataframe thead th {\n",
       "        text-align: right;\n",
       "    }\n",
       "</style>\n",
       "<table border=\"1\" class=\"dataframe\">\n",
       "  <thead>\n",
       "    <tr style=\"text-align: right;\">\n",
       "      <th></th>\n",
       "      <th>ID_Producto</th>\n",
       "      <th>Precio_Unitario</th>\n",
       "      <th>Stock_Disponible</th>\n",
       "      <th>Fecha_Ingreso</th>\n",
       "    </tr>\n",
       "  </thead>\n",
       "  <tbody>\n",
       "    <tr>\n",
       "      <th>count</th>\n",
       "      <td>8.00000</td>\n",
       "      <td>7.000000</td>\n",
       "      <td>7.000000</td>\n",
       "      <td>8</td>\n",
       "    </tr>\n",
       "    <tr>\n",
       "      <th>mean</th>\n",
       "      <td>104.50000</td>\n",
       "      <td>1.185714</td>\n",
       "      <td>103.571429</td>\n",
       "      <td>2024-01-12 00:00:00</td>\n",
       "    </tr>\n",
       "    <tr>\n",
       "      <th>min</th>\n",
       "      <td>101.00000</td>\n",
       "      <td>0.500000</td>\n",
       "      <td>60.000000</td>\n",
       "      <td>2024-01-10 00:00:00</td>\n",
       "    </tr>\n",
       "    <tr>\n",
       "      <th>25%</th>\n",
       "      <td>102.75000</td>\n",
       "      <td>0.700000</td>\n",
       "      <td>77.500000</td>\n",
       "      <td>2024-01-10 18:00:00</td>\n",
       "    </tr>\n",
       "    <tr>\n",
       "      <th>50%</th>\n",
       "      <td>104.50000</td>\n",
       "      <td>1.200000</td>\n",
       "      <td>100.000000</td>\n",
       "      <td>2024-01-11 12:00:00</td>\n",
       "    </tr>\n",
       "    <tr>\n",
       "      <th>75%</th>\n",
       "      <td>106.25000</td>\n",
       "      <td>1.350000</td>\n",
       "      <td>130.000000</td>\n",
       "      <td>2024-01-13 06:00:00</td>\n",
       "    </tr>\n",
       "    <tr>\n",
       "      <th>max</th>\n",
       "      <td>108.00000</td>\n",
       "      <td>2.500000</td>\n",
       "      <td>150.000000</td>\n",
       "      <td>2024-01-15 00:00:00</td>\n",
       "    </tr>\n",
       "    <tr>\n",
       "      <th>std</th>\n",
       "      <td>2.44949</td>\n",
       "      <td>0.681734</td>\n",
       "      <td>34.243526</td>\n",
       "      <td>NaN</td>\n",
       "    </tr>\n",
       "  </tbody>\n",
       "</table>\n",
       "</div>"
      ],
      "text/plain": [
       "       ID_Producto  Precio_Unitario  Stock_Disponible        Fecha_Ingreso\n",
       "count      8.00000         7.000000          7.000000                    8\n",
       "mean     104.50000         1.185714        103.571429  2024-01-12 00:00:00\n",
       "min      101.00000         0.500000         60.000000  2024-01-10 00:00:00\n",
       "25%      102.75000         0.700000         77.500000  2024-01-10 18:00:00\n",
       "50%      104.50000         1.200000        100.000000  2024-01-11 12:00:00\n",
       "75%      106.25000         1.350000        130.000000  2024-01-13 06:00:00\n",
       "max      108.00000         2.500000        150.000000  2024-01-15 00:00:00\n",
       "std        2.44949         0.681734         34.243526                  NaN"
      ]
     },
     "metadata": {},
     "output_type": "display_data"
    }
   ],
   "source": [
    "print(\"Estadísticas descriptivas para columnas numéricas (df.describe()):\")\n",
    "display(df.describe()) # Esto muestra estadísticas como count, mean, std, min, 25%, 50%, 75%, max para columnas numéricas."
   ]
  },
  {
   "cell_type": "code",
   "execution_count": 93,
   "id": "8580b4d2",
   "metadata": {},
   "outputs": [
    {
     "name": "stdout",
     "output_type": "stream",
     "text": [
      "\n",
      "Estadísticas descriptivas para columnas de tipo 'object' (df.describe(include='object')):\n"
     ]
    },
    {
     "data": {
      "text/html": [
       "<div>\n",
       "<style scoped>\n",
       "    .dataframe tbody tr th:only-of-type {\n",
       "        vertical-align: middle;\n",
       "    }\n",
       "\n",
       "    .dataframe tbody tr th {\n",
       "        vertical-align: top;\n",
       "    }\n",
       "\n",
       "    .dataframe thead th {\n",
       "        text-align: right;\n",
       "    }\n",
       "</style>\n",
       "<table border=\"1\" class=\"dataframe\">\n",
       "  <thead>\n",
       "    <tr style=\"text-align: right;\">\n",
       "      <th></th>\n",
       "      <th>Nombre_Producto</th>\n",
       "      <th>Categoría</th>\n",
       "    </tr>\n",
       "  </thead>\n",
       "  <tbody>\n",
       "    <tr>\n",
       "      <th>count</th>\n",
       "      <td>8</td>\n",
       "      <td>8</td>\n",
       "    </tr>\n",
       "    <tr>\n",
       "      <th>unique</th>\n",
       "      <td>6</td>\n",
       "      <td>1</td>\n",
       "    </tr>\n",
       "    <tr>\n",
       "      <th>top</th>\n",
       "      <td>Manzana</td>\n",
       "      <td>Fruta</td>\n",
       "    </tr>\n",
       "    <tr>\n",
       "      <th>freq</th>\n",
       "      <td>2</td>\n",
       "      <td>8</td>\n",
       "    </tr>\n",
       "  </tbody>\n",
       "</table>\n",
       "</div>"
      ],
      "text/plain": [
       "       Nombre_Producto Categoría\n",
       "count                8         8\n",
       "unique               6         1\n",
       "top            Manzana     Fruta\n",
       "freq                 2         8"
      ]
     },
     "metadata": {},
     "output_type": "display_data"
    }
   ],
   "source": [
    "# Para incluir estadísticas de columnas no numéricas (como strings/objects):\n",
    "print(\"\\nEstadísticas descriptivas para columnas de tipo 'object' (df.describe(include='object')):\")\n",
    "display(df.describe(include='object'))"
   ]
  },
  {
   "cell_type": "code",
   "execution_count": 94,
   "id": "0ae8ffc1",
   "metadata": {},
   "outputs": [
    {
     "name": "stdout",
     "output_type": "stream",
     "text": [
      "\n",
      "Estadísticas descriptivas para TODAS las columnas (df.describe(include='all')):\n"
     ]
    },
    {
     "data": {
      "text/html": [
       "<div>\n",
       "<style scoped>\n",
       "    .dataframe tbody tr th:only-of-type {\n",
       "        vertical-align: middle;\n",
       "    }\n",
       "\n",
       "    .dataframe tbody tr th {\n",
       "        vertical-align: top;\n",
       "    }\n",
       "\n",
       "    .dataframe thead th {\n",
       "        text-align: right;\n",
       "    }\n",
       "</style>\n",
       "<table border=\"1\" class=\"dataframe\">\n",
       "  <thead>\n",
       "    <tr style=\"text-align: right;\">\n",
       "      <th></th>\n",
       "      <th>ID_Producto</th>\n",
       "      <th>Nombre_Producto</th>\n",
       "      <th>Categoría</th>\n",
       "      <th>Precio_Unitario</th>\n",
       "      <th>Stock_Disponible</th>\n",
       "      <th>Fecha_Ingreso</th>\n",
       "      <th>En_Oferta</th>\n",
       "    </tr>\n",
       "  </thead>\n",
       "  <tbody>\n",
       "    <tr>\n",
       "      <th>count</th>\n",
       "      <td>8.00000</td>\n",
       "      <td>8</td>\n",
       "      <td>8</td>\n",
       "      <td>7.000000</td>\n",
       "      <td>7.000000</td>\n",
       "      <td>8</td>\n",
       "      <td>8</td>\n",
       "    </tr>\n",
       "    <tr>\n",
       "      <th>unique</th>\n",
       "      <td>NaN</td>\n",
       "      <td>6</td>\n",
       "      <td>1</td>\n",
       "      <td>NaN</td>\n",
       "      <td>NaN</td>\n",
       "      <td>NaN</td>\n",
       "      <td>2</td>\n",
       "    </tr>\n",
       "    <tr>\n",
       "      <th>top</th>\n",
       "      <td>NaN</td>\n",
       "      <td>Manzana</td>\n",
       "      <td>Fruta</td>\n",
       "      <td>NaN</td>\n",
       "      <td>NaN</td>\n",
       "      <td>NaN</td>\n",
       "      <td>False</td>\n",
       "    </tr>\n",
       "    <tr>\n",
       "      <th>freq</th>\n",
       "      <td>NaN</td>\n",
       "      <td>2</td>\n",
       "      <td>8</td>\n",
       "      <td>NaN</td>\n",
       "      <td>NaN</td>\n",
       "      <td>NaN</td>\n",
       "      <td>4</td>\n",
       "    </tr>\n",
       "    <tr>\n",
       "      <th>mean</th>\n",
       "      <td>104.50000</td>\n",
       "      <td>NaN</td>\n",
       "      <td>NaN</td>\n",
       "      <td>1.185714</td>\n",
       "      <td>103.571429</td>\n",
       "      <td>2024-01-12 00:00:00</td>\n",
       "      <td>NaN</td>\n",
       "    </tr>\n",
       "    <tr>\n",
       "      <th>min</th>\n",
       "      <td>101.00000</td>\n",
       "      <td>NaN</td>\n",
       "      <td>NaN</td>\n",
       "      <td>0.500000</td>\n",
       "      <td>60.000000</td>\n",
       "      <td>2024-01-10 00:00:00</td>\n",
       "      <td>NaN</td>\n",
       "    </tr>\n",
       "    <tr>\n",
       "      <th>25%</th>\n",
       "      <td>102.75000</td>\n",
       "      <td>NaN</td>\n",
       "      <td>NaN</td>\n",
       "      <td>0.700000</td>\n",
       "      <td>77.500000</td>\n",
       "      <td>2024-01-10 18:00:00</td>\n",
       "      <td>NaN</td>\n",
       "    </tr>\n",
       "    <tr>\n",
       "      <th>50%</th>\n",
       "      <td>104.50000</td>\n",
       "      <td>NaN</td>\n",
       "      <td>NaN</td>\n",
       "      <td>1.200000</td>\n",
       "      <td>100.000000</td>\n",
       "      <td>2024-01-11 12:00:00</td>\n",
       "      <td>NaN</td>\n",
       "    </tr>\n",
       "    <tr>\n",
       "      <th>75%</th>\n",
       "      <td>106.25000</td>\n",
       "      <td>NaN</td>\n",
       "      <td>NaN</td>\n",
       "      <td>1.350000</td>\n",
       "      <td>130.000000</td>\n",
       "      <td>2024-01-13 06:00:00</td>\n",
       "      <td>NaN</td>\n",
       "    </tr>\n",
       "    <tr>\n",
       "      <th>max</th>\n",
       "      <td>108.00000</td>\n",
       "      <td>NaN</td>\n",
       "      <td>NaN</td>\n",
       "      <td>2.500000</td>\n",
       "      <td>150.000000</td>\n",
       "      <td>2024-01-15 00:00:00</td>\n",
       "      <td>NaN</td>\n",
       "    </tr>\n",
       "    <tr>\n",
       "      <th>std</th>\n",
       "      <td>2.44949</td>\n",
       "      <td>NaN</td>\n",
       "      <td>NaN</td>\n",
       "      <td>0.681734</td>\n",
       "      <td>34.243526</td>\n",
       "      <td>NaN</td>\n",
       "      <td>NaN</td>\n",
       "    </tr>\n",
       "  </tbody>\n",
       "</table>\n",
       "</div>"
      ],
      "text/plain": [
       "        ID_Producto Nombre_Producto Categoría  Precio_Unitario  \\\n",
       "count       8.00000               8         8         7.000000   \n",
       "unique          NaN               6         1              NaN   \n",
       "top             NaN         Manzana     Fruta              NaN   \n",
       "freq            NaN               2         8              NaN   \n",
       "mean      104.50000             NaN       NaN         1.185714   \n",
       "min       101.00000             NaN       NaN         0.500000   \n",
       "25%       102.75000             NaN       NaN         0.700000   \n",
       "50%       104.50000             NaN       NaN         1.200000   \n",
       "75%       106.25000             NaN       NaN         1.350000   \n",
       "max       108.00000             NaN       NaN         2.500000   \n",
       "std         2.44949             NaN       NaN         0.681734   \n",
       "\n",
       "        Stock_Disponible        Fecha_Ingreso En_Oferta  \n",
       "count           7.000000                    8         8  \n",
       "unique               NaN                  NaN         2  \n",
       "top                  NaN                  NaN     False  \n",
       "freq                 NaN                  NaN         4  \n",
       "mean          103.571429  2024-01-12 00:00:00       NaN  \n",
       "min            60.000000  2024-01-10 00:00:00       NaN  \n",
       "25%            77.500000  2024-01-10 18:00:00       NaN  \n",
       "50%           100.000000  2024-01-11 12:00:00       NaN  \n",
       "75%           130.000000  2024-01-13 06:00:00       NaN  \n",
       "max           150.000000  2024-01-15 00:00:00       NaN  \n",
       "std            34.243526                  NaN       NaN  "
      ]
     },
     "metadata": {},
     "output_type": "display_data"
    },
    {
     "name": "stdout",
     "output_type": "stream",
     "text": [
      "\n",
      "==================================================\n",
      "\n"
     ]
    }
   ],
   "source": [
    "# Para incluir todas las columnas (numéricas y no numéricas):\n",
    "print(\"\\nEstadísticas descriptivas para TODAS las columnas (df.describe(include='all')):\")\n",
    "display(df.describe(include='all')) # datetime_is_numeric para tratar fechas\n",
    "print(\"\\n\" + \"=\"*50 + \"\\n\")\n",
    "\n",
    "#Para columnas object, describe() muestra count (conteo), unique (valores únicos), top (valor más frecuente) y freq (frecuencia del valor más frecuente)."
   ]
  }
 ],
 "metadata": {
  "kernelspec": {
   "display_name": "base",
   "language": "python",
   "name": "python3"
  },
  "language_info": {
   "codemirror_mode": {
    "name": "ipython",
    "version": 3
   },
   "file_extension": ".py",
   "mimetype": "text/x-python",
   "name": "python",
   "nbconvert_exporter": "python",
   "pygments_lexer": "ipython3",
   "version": "3.12.7"
  }
 },
 "nbformat": 4,
 "nbformat_minor": 5
}
