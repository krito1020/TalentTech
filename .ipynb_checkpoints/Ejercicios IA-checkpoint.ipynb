{
 "cells": [
  {
   "cell_type": "markdown",
   "id": "b4e790fe-93db-42f6-9220-2bb517b3ce07",
   "metadata": {},
   "source": [
    "#***PROBLEMARIO DE PROGRAMACIÓN***"
   ]
  },
  {
   "cell_type": "markdown",
   "id": "7c81bb17-d789-4247-b1b7-809dc16f8194",
   "metadata": {},
   "source": [
    "** 1. ESTRUCTURAS DE SELECCIÓN **"
   ]
  },
  {
   "cell_type": "markdown",
   "id": "e55bd461-c4c7-420d-a8d7-36ca5841bcb9",
   "metadata": {},
   "source": [
    "**1.1.** Escribir un programa que solicite un valor entero al usuario y determine si es par o impar."
   ]
  },
  {
   "cell_type": "code",
   "execution_count": 1,
   "id": "474655b4-848f-4a5a-b2bd-b4157b6ed013",
   "metadata": {},
   "outputs": [
    {
     "name": "stdin",
     "output_type": "stream",
     "text": [
      "ingrese un número entero:  2\n"
     ]
    },
    {
     "name": "stdout",
     "output_type": "stream",
     "text": [
      "El número 2  es par.\n"
     ]
    }
   ],
   "source": [
    "numero = int(input(\"ingrese un número entero: \"))\n",
    "\n",
    "#Evaluación si es par o impar:\n",
    "if numero % 2 == 0:\n",
    "  print(\"El número\", numero, \" es par.\")\n",
    "else:\n",
    "  print(f\"El npumero {numero} es impar.\")"
   ]
  },
  {
   "cell_type": "markdown",
   "id": "4c3b132a-eb2f-44b0-9666-a4b0e9328010",
   "metadata": {},
   "source": [
    "**1.2.** Escribir un programa que solicite un valor entero al usuario y determine si es positivo o negativo."
   ]
  },
  {
   "cell_type": "code",
   "execution_count": 2,
   "id": "d62fbe15-f2eb-409d-8175-c629f142f785",
   "metadata": {
    "jupyter": {
     "source_hidden": true
    },
    "scrolled": true
   },
   "outputs": [
    {
     "name": "stdin",
     "output_type": "stream",
     "text": [
      "ingrese un número entero:  335\n"
     ]
    },
    {
     "name": "stdout",
     "output_type": "stream",
     "text": [
      "El número 335 Es positivo\n"
     ]
    }
   ],
   "source": [
    "numero=int(input(\"ingrese un número entero: \"))\n",
    "\n",
    "#Evaluación si es positivo o negativo\n",
    "\n",
    "if numero < 0:\n",
    "  print(\"El número\", numero, \"Es negativo\")\n",
    "else:\n",
    "  print(\"El número\", numero, \"Es positivo\")"
   ]
  },
  {
   "cell_type": "markdown",
   "id": "2322fb37-57a6-4e58-b505-738f380d0b68",
   "metadata": {},
   "source": [
    "**1.3.** Pedir al usuario un valor. Si el valor es positivo, pedir un segundo valor y calcular la suma, resta y producto de \n",
    "ambos. Mostrar los resultados por pantalla. "
   ]
  },
  {
   "cell_type": "code",
   "execution_count": 34,
   "id": "8efc5ce2-f409-4173-aa52-340259998c83",
   "metadata": {},
   "outputs": [
    {
     "name": "stdin",
     "output_type": "stream",
     "text": [
      "Ingresa un valor:  3\n",
      "Ingresa un segundo valor:  4\n"
     ]
    },
    {
     "name": "stdout",
     "output_type": "stream",
     "text": [
      "La suma de los dos valores es 7, la resta es -1 y el producto es 12\n"
     ]
    }
   ],
   "source": [
    "valor1 = int(input(\"Ingresa un valor: \"))\n",
    "if valor1 > 0:\n",
    "    valor2 = int(input(\"Ingresa un segundo valor: \"))\n",
    "    suma = valor1 + valor2\n",
    "    resta = valor1- valor2\n",
    "    producto = valor1 * valor2\n",
    "    print (f\"La suma de los dos valores es {suma}, la resta es {resta} y el producto es {producto}\")\n",
    "    "
   ]
  },
  {
   "cell_type": "markdown",
   "id": "9b62f274-c371-4a06-9793-8b57a7a37027",
   "metadata": {},
   "source": [
    "**2. ESTRUCTURAS DE REPETICIÓN**"
   ]
  },
  {
   "cell_type": "markdown",
   "id": "9f7424a8-8785-4c73-89d4-61464e2596a0",
   "metadata": {},
   "source": [
    "**2. ESTRUCTURAS DE REPETICIÓN**"
   ]
  },
  {
   "cell_type": "markdown",
   "id": "84edaaee-eb4a-48fb-9f14-2864f22bbbbd",
   "metadata": {},
   "source": [
    "**2.1.** Realizar un programa que transforme todas las letras del alfabeto de mayúsculas a minúsculas."
   ]
  },
  {
   "cell_type": "code",
   "execution_count": 5,
   "id": "21872935-750f-42a0-9a9e-31c8771137d2",
   "metadata": {
    "collapsed": true,
    "jupyter": {
     "outputs_hidden": true
    }
   },
   "outputs": [
    {
     "name": "stdout",
     "output_type": "stream",
     "text": [
      "a\n",
      "b\n",
      "c\n",
      "d\n",
      "e\n",
      "f\n",
      "g\n",
      "h\n",
      "i\n",
      "j\n",
      "k\n",
      "l\n",
      "m\n",
      "n\n",
      "o\n",
      "p\n",
      "q\n",
      "r\n",
      "s\n",
      "t\n",
      "u\n",
      "v\n",
      "w\n",
      "x\n",
      "y\n",
      "z\n"
     ]
    }
   ],
   "source": [
    "abecedario = \"ABCDEFGHIJKLMNOPQRSTUVWXYZ\"\n",
    "for letra in abecedario:\n",
    "    print(letra.lower())"
   ]
  },
  {
   "cell_type": "markdown",
   "id": "57eb5e33-942b-4a7d-9bc7-8b3c7aa38698",
   "metadata": {
    "jupyter": {
     "source_hidden": true
    }
   },
   "source": [
    "**2.2.** Programa que lee las edades de un grupo de 100 alumnos y encuentra el promedio. "
   ]
  },
  {
   "cell_type": "code",
   "execution_count": 16,
   "id": "e7a83bc1-f4ca-4b7e-b56c-c6d2d5eb8b71",
   "metadata": {
    "jupyter": {
     "source_hidden": true
    }
   },
   "outputs": [
    {
     "name": "stdin",
     "output_type": "stream",
     "text": [
      "Ingresa la edad del estudiante número:  4\n",
      "Ingresa la edad del estudiante número:  5\n",
      "Ingresa la edad del estudiante número:  6\n"
     ]
    },
    {
     "name": "stdout",
     "output_type": "stream",
     "text": [
      "La edad promedio de los 100 estudiantes es:  5.0\n"
     ]
    }
   ],
   "source": [
    "edad_acumulada = 0\n",
    "cantidad_estudiantes = 100\n",
    "while cantidad_estudiantes > 0:\n",
    "    edad_estudiante = int (input(\"Ingresa la edad del estudiante número: \"))\n",
    "    edad_acumulada = edad_acumulada + edad_estudiante\n",
    "    cantidad_estudiantes -=1\n",
    "promedio_edad=edad_acumulada/100\n",
    "print(\"La edad promedio de los 100 estudiantes es: \", promedio_edad)"
   ]
  },
  {
   "cell_type": "markdown",
   "id": "e42cf87f-b5aa-4818-8489-a7e49a02d11c",
   "metadata": {},
   "source": [
    "**2.3.** Calcular el promedio de un alumno que tiene 7 calificaciones en la materia de Cálculo. "
   ]
  },
  {
   "cell_type": "code",
   "execution_count": 30,
   "id": "c257c058-d40a-45ea-bfe9-6fda36a098c1",
   "metadata": {
    "collapsed": true,
    "jupyter": {
     "outputs_hidden": true,
     "source_hidden": true
    }
   },
   "outputs": [
    {
     "name": "stdin",
     "output_type": "stream",
     "text": [
      "Ingresa la nota del estudiante:  5\n",
      "Ingresa la nota del estudiante:  7\n",
      "Ingresa la nota del estudiante:  8\n",
      "Ingresa la nota del estudiante:  9\n",
      "Ingresa la nota del estudiante:  0\n",
      "Ingresa la nota del estudiante:  6\n",
      "Ingresa la nota del estudiante:  4\n"
     ]
    },
    {
     "name": "stdout",
     "output_type": "stream",
     "text": [
      "La nota promedio del estudiante:  1.1428571428571428\n"
     ]
    }
   ],
   "source": [
    "nota_estudiante = 0\n",
    "for X in range(7):\n",
    "    nota_estudiante = float(input(\"Ingresa la nota del estudiante: \"))\n",
    "    nota_estudiante += nota_estudiante\n",
    "print(\"La nota promedio del estudiante: \",nota_estudiante/7)"
   ]
  },
  {
   "cell_type": "markdown",
   "id": "68ed1f6f-dfdc-4330-80d1-09c973c8bd88",
   "metadata": {},
   "source": [
    "**3. FUNCIONES**"
   ]
  },
  {
   "cell_type": "markdown",
   "id": "9c3e62a5-07a4-46e9-b2e0-1a235351f64b",
   "metadata": {},
   "source": [
    "3.1. Crear una función llamada \"suma\", que reciba como parámetros dos números enteros y devuelva como resultado \n",
    "otro número entero que sea la suma de ambos."
   ]
  },
  {
   "cell_type": "code",
   "execution_count": null,
   "id": "768d7e2e-b610-4eb3-bafe-81e058c3d383",
   "metadata": {},
   "outputs": [],
   "source": []
  },
  {
   "cell_type": "code",
   "execution_count": null,
   "id": "f5885a36-dc0b-4165-ac53-679bc8c8b804",
   "metadata": {},
   "outputs": [],
   "source": []
  }
 ],
 "metadata": {
  "kernelspec": {
   "display_name": "Python 3 (ipykernel)",
   "language": "python",
   "name": "python3"
  },
  "language_info": {
   "codemirror_mode": {
    "name": "ipython",
    "version": 3
   },
   "file_extension": ".py",
   "mimetype": "text/x-python",
   "name": "python",
   "nbconvert_exporter": "python",
   "pygments_lexer": "ipython3",
   "version": "3.12.7"
  }
 },
 "nbformat": 4,
 "nbformat_minor": 5
}
